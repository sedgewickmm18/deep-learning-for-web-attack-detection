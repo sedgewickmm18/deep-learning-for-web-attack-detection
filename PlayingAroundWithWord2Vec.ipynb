{
 "cells": [
  {
   "cell_type": "code",
   "execution_count": 1,
   "id": "absent-margin",
   "metadata": {},
   "outputs": [
    {
     "name": "stderr",
     "output_type": "stream",
     "text": [
      "Warning: confluent_kafka is not installed. Publish to MessageHub not supported.\n"
     ]
    }
   ],
   "source": [
    "#Real life data\n",
    "\n",
    "import logging\n",
    "import threading\n",
    "import itertools\n",
    "import math\n",
    "import datetime\n",
    "import pandas as pd  \n",
    "import numpy as np  \n",
    "import scipy as sp\n",
    "import json\n",
    "import ibm_db\n",
    "\n",
    "import matplotlib\n",
    "import matplotlib.pyplot as plt\n",
    "from matplotlib import cm\n",
    "from mpl_toolkits.mplot3d import axes3d\n",
    "import seaborn as seabornInstance\n",
    "from sqlalchemy import Column, Integer, String, Float, DateTime, Boolean, func\n",
    "from iotfunctions import base\n",
    "from iotfunctions import bif\n",
    "from iotfunctions import entity\n",
    "from iotfunctions import metadata\n",
    "from iotfunctions.metadata import EntityType\n",
    "from iotfunctions.db import Database\n",
    "from iotfunctions.dbtables import FileModelStore, DBModelStore\n",
    "from iotfunctions.enginelog import EngineLogging\n",
    "from iotfunctions import estimator\n",
    "from iotfunctions.bif import PythonExpression\n",
    "from iotfunctions.ui import (UISingle, UIMultiItem, UIFunctionOutSingle,\n",
    "                 UISingleItem, UIFunctionOutMulti, UIMulti, UIExpression,\n",
    "                 UIText, UIStatusFlag, UIParameters)\n",
    "from iotfunctions.anomaly import (SaliencybasedGeneralizedAnomalyScore, SpectralAnomalyScore,\n",
    "                 FFTbasedGeneralizedAnomalyScore, KMeansAnomalyScore,\n",
    "                 SaliencybasedGeneralizedAnomalyScoreV2, FFTbasedGeneralizedAnomalyScoreV2, \n",
    "                 KMeansAnomalyScoreV2, BayesRidgeRegressor,)\n",
    "from mmfunctions.anomaly import (FeatureBuilder, GBMForecaster, KDEAnomalyScore, VIAnomalyScore)\n",
    "#from poc.functions import State_Timer\n",
    "import datetime as dt\n",
    "from sklearn.model_selection import train_test_split \n",
    "from sklearn.linear_model import LinearRegression\n",
    "from sklearn.preprocessing import StandardScaler, MinMaxScaler\n",
    "from sklearn import metrics\n",
    "from pandas.plotting import register_matplotlib_converters\n",
    "import seaborn as sns\n",
    "register_matplotlib_converters()\n",
    "\n",
    "EngineLogging.configure_console_logging(logging.INFO)\n",
    "\n",
    "\n"
   ]
  },
  {
   "cell_type": "code",
   "execution_count": 2,
   "id": "revised-fiber",
   "metadata": {},
   "outputs": [],
   "source": [
    "# install umap-learn, gensim and python-Levenshtein\n",
    "import umap \n",
    "import gensim\n",
    "from gensim.models import Word2Vec, FastText\n"
   ]
  },
  {
   "cell_type": "code",
   "execution_count": 3,
   "id": "rocky-catalyst",
   "metadata": {},
   "outputs": [],
   "source": [
    "df_raw = pd.read_fwf('./data/dataids.txt', header=None)\n",
    "df = df_raw[0].str.split(',', expand=True)"
   ]
  },
  {
   "cell_type": "code",
   "execution_count": 4,
   "id": "compound-boutique",
   "metadata": {},
   "outputs": [],
   "source": [
    "np_dataset = df.values"
   ]
  },
  {
   "cell_type": "code",
   "execution_count": 5,
   "id": "unknown-heritage",
   "metadata": {},
   "outputs": [],
   "source": [
    "# minimal cleansing - drop NaNs\n",
    "dataset = []\n",
    "for row in np_dataset:\n",
    "    dataset.append([x for x in row if pd.isnull(x) == False])"
   ]
  },
  {
   "cell_type": "code",
   "execution_count": 6,
   "id": "needed-monroe",
   "metadata": {},
   "outputs": [
    {
     "name": "stdout",
     "output_type": "stream",
     "text": [
      "2021-06-10T13:35:33.008 INFO gensim.models.word2vec.scan_vocab collecting all words and their counts\n",
      "2021-06-10T13:35:33.010 INFO gensim.models.word2vec._scan_vocab PROGRESS: at sentence #0, processed 0 words, keeping 0 word types\n",
      "2021-06-10T13:35:33.042 INFO gensim.models.word2vec._scan_vocab PROGRESS: at sentence #10000, processed 93734 words, keeping 13948 word types\n",
      "2021-06-10T13:35:33.060 INFO gensim.models.word2vec._scan_vocab PROGRESS: at sentence #20000, processed 186357 words, keeping 26873 word types\n",
      "2021-06-10T13:35:33.077 INFO gensim.models.word2vec._scan_vocab PROGRESS: at sentence #30000, processed 279496 words, keeping 40009 word types\n",
      "2021-06-10T13:35:33.097 INFO gensim.models.word2vec._scan_vocab PROGRESS: at sentence #40000, processed 371920 words, keeping 52744 word types\n",
      "2021-06-10T13:35:33.116 INFO gensim.models.word2vec._scan_vocab PROGRESS: at sentence #50000, processed 464621 words, keeping 65611 word types\n",
      "2021-06-10T13:35:33.136 INFO gensim.models.word2vec._scan_vocab PROGRESS: at sentence #60000, processed 559061 words, keeping 78377 word types\n",
      "2021-06-10T13:35:33.157 INFO gensim.models.word2vec._scan_vocab PROGRESS: at sentence #70000, processed 651888 words, keeping 90913 word types\n",
      "2021-06-10T13:35:33.176 INFO gensim.models.word2vec._scan_vocab PROGRESS: at sentence #80000, processed 744547 words, keeping 103367 word types\n",
      "2021-06-10T13:35:33.195 INFO gensim.models.word2vec._scan_vocab PROGRESS: at sentence #90000, processed 836039 words, keeping 115987 word types\n",
      "2021-06-10T13:35:33.213 INFO gensim.models.word2vec._scan_vocab PROGRESS: at sentence #100000, processed 929264 words, keeping 129052 word types\n",
      "2021-06-10T13:35:33.233 INFO gensim.models.word2vec._scan_vocab PROGRESS: at sentence #110000, processed 1021609 words, keeping 141840 word types\n",
      "2021-06-10T13:35:33.254 INFO gensim.models.word2vec._scan_vocab PROGRESS: at sentence #120000, processed 1114668 words, keeping 154567 word types\n",
      "2021-06-10T13:35:33.273 INFO gensim.models.word2vec._scan_vocab PROGRESS: at sentence #130000, processed 1206246 words, keeping 166995 word types\n",
      "2021-06-10T13:35:33.299 INFO gensim.models.word2vec._scan_vocab PROGRESS: at sentence #140000, processed 1298403 words, keeping 179385 word types\n",
      "2021-06-10T13:35:33.319 INFO gensim.models.word2vec._scan_vocab PROGRESS: at sentence #150000, processed 1393341 words, keeping 192248 word types\n",
      "2021-06-10T13:35:33.340 INFO gensim.models.word2vec._scan_vocab PROGRESS: at sentence #160000, processed 1485581 words, keeping 204649 word types\n",
      "2021-06-10T13:35:33.362 INFO gensim.models.word2vec._scan_vocab PROGRESS: at sentence #170000, processed 1577669 words, keeping 216860 word types\n",
      "2021-06-10T13:35:33.382 INFO gensim.models.word2vec._scan_vocab PROGRESS: at sentence #180000, processed 1671328 words, keeping 229141 word types\n",
      "2021-06-10T13:35:33.402 INFO gensim.models.word2vec._scan_vocab PROGRESS: at sentence #190000, processed 1764486 words, keeping 241504 word types\n",
      "2021-06-10T13:35:33.420 INFO gensim.models.word2vec._scan_vocab PROGRESS: at sentence #200000, processed 1858105 words, keeping 254063 word types\n",
      "2021-06-10T13:35:33.439 INFO gensim.models.word2vec._scan_vocab PROGRESS: at sentence #210000, processed 1952931 words, keeping 266839 word types\n",
      "2021-06-10T13:35:33.458 INFO gensim.models.word2vec._scan_vocab PROGRESS: at sentence #220000, processed 2045829 words, keeping 279072 word types\n",
      "2021-06-10T13:35:33.478 INFO gensim.models.word2vec._scan_vocab PROGRESS: at sentence #230000, processed 2137694 words, keeping 291448 word types\n",
      "2021-06-10T13:35:33.498 INFO gensim.models.word2vec._scan_vocab PROGRESS: at sentence #240000, processed 2231460 words, keeping 303860 word types\n",
      "2021-06-10T13:35:33.517 INFO gensim.models.word2vec._scan_vocab PROGRESS: at sentence #250000, processed 2324640 words, keeping 316278 word types\n",
      "2021-06-10T13:35:33.537 INFO gensim.models.word2vec._scan_vocab PROGRESS: at sentence #260000, processed 2420110 words, keeping 329112 word types\n",
      "2021-06-10T13:35:33.556 INFO gensim.models.word2vec._scan_vocab PROGRESS: at sentence #270000, processed 2515132 words, keeping 342286 word types\n",
      "2021-06-10T13:35:33.585 INFO gensim.models.word2vec._scan_vocab PROGRESS: at sentence #280000, processed 2602389 words, keeping 354761 word types\n",
      "2021-06-10T13:35:33.601 INFO gensim.models.word2vec._scan_vocab PROGRESS: at sentence #290000, processed 2695496 words, keeping 367457 word types\n",
      "2021-06-10T13:35:33.620 INFO gensim.models.word2vec._scan_vocab PROGRESS: at sentence #300000, processed 2789297 words, keeping 379807 word types\n",
      "2021-06-10T13:35:33.636 INFO gensim.models.word2vec._scan_vocab PROGRESS: at sentence #310000, processed 2882710 words, keeping 392422 word types\n",
      "2021-06-10T13:35:33.655 INFO gensim.models.word2vec._scan_vocab PROGRESS: at sentence #320000, processed 2975439 words, keeping 404777 word types\n",
      "2021-06-10T13:35:33.675 INFO gensim.models.word2vec._scan_vocab PROGRESS: at sentence #330000, processed 3068983 words, keeping 417516 word types\n",
      "2021-06-10T13:35:33.696 INFO gensim.models.word2vec._scan_vocab PROGRESS: at sentence #340000, processed 3161076 words, keeping 429939 word types\n",
      "2021-06-10T13:35:33.715 INFO gensim.models.word2vec._scan_vocab PROGRESS: at sentence #350000, processed 3253443 words, keeping 442218 word types\n",
      "2021-06-10T13:35:33.736 INFO gensim.models.word2vec._scan_vocab PROGRESS: at sentence #360000, processed 3346360 words, keeping 454845 word types\n",
      "2021-06-10T13:35:33.761 INFO gensim.models.word2vec._scan_vocab PROGRESS: at sentence #370000, processed 3439260 words, keeping 467334 word types\n",
      "2021-06-10T13:35:33.779 INFO gensim.models.word2vec._scan_vocab PROGRESS: at sentence #380000, processed 3532976 words, keeping 480025 word types\n",
      "2021-06-10T13:35:33.798 INFO gensim.models.word2vec._scan_vocab PROGRESS: at sentence #390000, processed 3625718 words, keeping 492651 word types\n",
      "2021-06-10T13:35:33.804 INFO gensim.models.word2vec.scan_vocab collected 496393 word types from a corpus of 3653622 raw words and 393013 sentences\n",
      "2021-06-10T13:35:33.804 INFO gensim.models.word2vec.prepare_vocab Creating a fresh vocabulary\n",
      "2021-06-10T13:35:35.335 INFO gensim.utils.add_lifecycle_event Word2Vec lifecycle event {'msg': 'effective_min_count=1 retains 496393 unique words (100.0%% of original 496393, drops 0)', 'datetime': '2021-06-10T13:35:35.335105', 'gensim': '4.0.1', 'python': '3.9.5 (default, May 11 2021, 08:20:37) \\n[GCC 10.3.0]', 'platform': 'Linux-5.11.0-18-generic-x86_64-with-glibc2.33', 'event': 'prepare_vocab'}\n",
      "2021-06-10T13:35:35.335 INFO gensim.utils.add_lifecycle_event Word2Vec lifecycle event {'msg': 'effective_min_count=1 leaves 3653622 word corpus (100.0%% of original 3653622, drops 0)', 'datetime': '2021-06-10T13:35:35.335773', 'gensim': '4.0.1', 'python': '3.9.5 (default, May 11 2021, 08:20:37) \\n[GCC 10.3.0]', 'platform': 'Linux-5.11.0-18-generic-x86_64-with-glibc2.33', 'event': 'prepare_vocab'}\n",
      "2021-06-10T13:35:37.983 INFO gensim.models.word2vec.prepare_vocab deleting the raw counts dictionary of 496393 items\n",
      "2021-06-10T13:35:37.995 INFO gensim.models.word2vec.prepare_vocab sample=0.001 downsamples 33 most-common words\n",
      "2021-06-10T13:35:37.996 INFO gensim.utils.add_lifecycle_event Word2Vec lifecycle event {'msg': 'downsampling leaves estimated 3062941.6432432937 word corpus (83.8%% of prior 3653622)', 'datetime': '2021-06-10T13:35:37.996045', 'gensim': '4.0.1', 'python': '3.9.5 (default, May 11 2021, 08:20:37) \\n[GCC 10.3.0]', 'platform': 'Linux-5.11.0-18-generic-x86_64-with-glibc2.33', 'event': 'prepare_vocab'}\n",
      "2021-06-10T13:35:42.150 INFO gensim.models.word2vec.estimate_memory estimated required memory for 496393 words and 300 dimensions: 1439539700 bytes\n",
      "2021-06-10T13:35:42.150 INFO gensim.models.word2vec.init_weights resetting layer weights\n",
      "2021-06-10T13:35:42.859 INFO gensim.utils.add_lifecycle_event Word2Vec lifecycle event {'update': False, 'trim_rule': 'None', 'datetime': '2021-06-10T13:35:42.859356', 'gensim': '4.0.1', 'python': '3.9.5 (default, May 11 2021, 08:20:37) \\n[GCC 10.3.0]', 'platform': 'Linux-5.11.0-18-generic-x86_64-with-glibc2.33', 'event': 'build_vocab'}\n",
      "2021-06-10T13:35:42.859 INFO gensim.utils.add_lifecycle_event Word2Vec lifecycle event {'msg': 'training model with 3 workers on 496393 vocabulary and 300 features, using sg=0 hs=0 sample=0.001 negative=5 window=5', 'datetime': '2021-06-10T13:35:42.859960', 'gensim': '4.0.1', 'python': '3.9.5 (default, May 11 2021, 08:20:37) \\n[GCC 10.3.0]', 'platform': 'Linux-5.11.0-18-generic-x86_64-with-glibc2.33', 'event': 'train'}\n"
     ]
    },
    {
     "name": "stdout",
     "output_type": "stream",
     "text": [
      "2021-06-10T13:35:43.882 INFO gensim.models.word2vec._log_progress EPOCH 1 - PROGRESS: at 17.20% examples, 520574 words/s, in_qsize 5, out_qsize 0\n",
      "2021-06-10T13:35:44.884 INFO gensim.models.word2vec._log_progress EPOCH 1 - PROGRESS: at 42.19% examples, 641941 words/s, in_qsize 5, out_qsize 0\n",
      "2021-06-10T13:35:45.888 INFO gensim.models.word2vec._log_progress EPOCH 1 - PROGRESS: at 66.66% examples, 677712 words/s, in_qsize 6, out_qsize 0\n",
      "2021-06-10T13:35:46.900 INFO gensim.models.word2vec._log_progress EPOCH 1 - PROGRESS: at 92.76% examples, 705689 words/s, in_qsize 5, out_qsize 0\n",
      "2021-06-10T13:35:47.171 INFO gensim.models.word2vec._log_epoch_progress worker thread finished; awaiting finish of 2 more threads\n",
      "2021-06-10T13:35:47.173 INFO gensim.models.word2vec._log_epoch_progress worker thread finished; awaiting finish of 1 more threads\n",
      "2021-06-10T13:35:47.177 INFO gensim.models.word2vec._log_epoch_progress worker thread finished; awaiting finish of 0 more threads\n",
      "2021-06-10T13:35:47.177 INFO gensim.models.word2vec._log_epoch_end EPOCH - 1 : training on 3653622 raw words (3062348 effective words) took 4.3s, 712407 effective words/s\n",
      "2021-06-10T13:35:48.193 INFO gensim.models.word2vec._log_progress EPOCH 2 - PROGRESS: at 24.64% examples, 741153 words/s, in_qsize 5, out_qsize 0\n",
      "2021-06-10T13:35:49.204 INFO gensim.models.word2vec._log_progress EPOCH 2 - PROGRESS: at 50.92% examples, 769650 words/s, in_qsize 5, out_qsize 0\n",
      "2021-06-10T13:35:50.211 INFO gensim.models.word2vec._log_progress EPOCH 2 - PROGRESS: at 76.59% examples, 773516 words/s, in_qsize 5, out_qsize 0\n",
      "2021-06-10T13:35:51.101 INFO gensim.models.word2vec._log_epoch_progress worker thread finished; awaiting finish of 2 more threads\n",
      "2021-06-10T13:35:51.106 INFO gensim.models.word2vec._log_epoch_progress worker thread finished; awaiting finish of 1 more threads\n",
      "2021-06-10T13:35:51.111 INFO gensim.models.word2vec._log_epoch_progress worker thread finished; awaiting finish of 0 more threads\n",
      "2021-06-10T13:35:51.112 INFO gensim.models.word2vec._log_epoch_end EPOCH - 2 : training on 3653622 raw words (3062343 effective words) took 3.9s, 779378 effective words/s\n",
      "2021-06-10T13:35:52.131 INFO gensim.models.word2vec._log_progress EPOCH 3 - PROGRESS: at 25.18% examples, 755366 words/s, in_qsize 5, out_qsize 0\n",
      "2021-06-10T13:35:53.154 INFO gensim.models.word2vec._log_progress EPOCH 3 - PROGRESS: at 51.47% examples, 772219 words/s, in_qsize 5, out_qsize 0\n",
      "2021-06-10T13:35:54.166 INFO gensim.models.word2vec._log_progress EPOCH 3 - PROGRESS: at 77.68% examples, 779376 words/s, in_qsize 5, out_qsize 0\n",
      "2021-06-10T13:35:55.065 INFO gensim.models.word2vec._log_epoch_progress worker thread finished; awaiting finish of 2 more threads\n",
      "2021-06-10T13:35:55.073 INFO gensim.models.word2vec._log_epoch_progress worker thread finished; awaiting finish of 1 more threads\n",
      "2021-06-10T13:35:55.086 INFO gensim.models.word2vec._log_epoch_progress worker thread finished; awaiting finish of 0 more threads\n",
      "2021-06-10T13:35:55.086 INFO gensim.models.word2vec._log_epoch_end EPOCH - 3 : training on 3653622 raw words (3062180 effective words) took 4.0s, 771535 effective words/s\n",
      "2021-06-10T13:35:56.109 INFO gensim.models.word2vec._log_progress EPOCH 4 - PROGRESS: at 25.18% examples, 753229 words/s, in_qsize 5, out_qsize 0\n",
      "2021-06-10T13:35:57.122 INFO gensim.models.word2vec._log_progress EPOCH 4 - PROGRESS: at 49.55% examples, 745871 words/s, in_qsize 5, out_qsize 0\n",
      "2021-06-10T13:35:58.132 INFO gensim.models.word2vec._log_progress EPOCH 4 - PROGRESS: at 74.42% examples, 748569 words/s, in_qsize 5, out_qsize 0\n",
      "2021-06-10T13:35:59.099 INFO gensim.models.word2vec._log_epoch_progress worker thread finished; awaiting finish of 2 more threads\n",
      "2021-06-10T13:35:59.100 INFO gensim.models.word2vec._log_epoch_progress worker thread finished; awaiting finish of 1 more threads\n",
      "2021-06-10T13:35:59.103 INFO gensim.models.word2vec._log_epoch_progress worker thread finished; awaiting finish of 0 more threads\n",
      "2021-06-10T13:35:59.103 INFO gensim.models.word2vec._log_epoch_end EPOCH - 4 : training on 3653622 raw words (3063214 effective words) took 4.0s, 763637 effective words/s\n",
      "2021-06-10T13:36:00.125 INFO gensim.models.word2vec._log_progress EPOCH 5 - PROGRESS: at 25.73% examples, 770657 words/s, in_qsize 6, out_qsize 0\n",
      "2021-06-10T13:36:01.135 INFO gensim.models.word2vec._log_progress EPOCH 5 - PROGRESS: at 51.19% examples, 772054 words/s, in_qsize 5, out_qsize 0\n",
      "2021-06-10T13:36:02.146 INFO gensim.models.word2vec._log_progress EPOCH 5 - PROGRESS: at 77.41% examples, 779555 words/s, in_qsize 5, out_qsize 0\n",
      "2021-06-10T13:36:02.987 INFO gensim.models.word2vec._log_epoch_progress worker thread finished; awaiting finish of 2 more threads\n",
      "2021-06-10T13:36:02.988 INFO gensim.models.word2vec._log_epoch_progress worker thread finished; awaiting finish of 1 more threads\n",
      "2021-06-10T13:36:02.996 INFO gensim.models.word2vec._log_epoch_progress worker thread finished; awaiting finish of 0 more threads\n",
      "2021-06-10T13:36:02.997 INFO gensim.models.word2vec._log_epoch_end EPOCH - 5 : training on 3653622 raw words (3062612 effective words) took 3.9s, 787805 effective words/s\n",
      "2021-06-10T13:36:02.997 INFO gensim.utils.add_lifecycle_event Word2Vec lifecycle event {'msg': 'training on 18268110 raw words (15312697 effective words) took 20.1s, 760411 effective words/s', 'datetime': '2021-06-10T13:36:02.997734', 'gensim': '4.0.1', 'python': '3.9.5 (default, May 11 2021, 08:20:37) \\n[GCC 10.3.0]', 'platform': 'Linux-5.11.0-18-generic-x86_64-with-glibc2.33', 'event': 'train'}\n",
      "2021-06-10T13:36:02.998 INFO gensim.utils.add_lifecycle_event Word2Vec lifecycle event {'params': 'Word2Vec(vocab=496393, vector_size=300, alpha=0.025)', 'datetime': '2021-06-10T13:36:02.998062', 'gensim': '4.0.1', 'python': '3.9.5 (default, May 11 2021, 08:20:37) \\n[GCC 10.3.0]', 'platform': 'Linux-5.11.0-18-generic-x86_64-with-glibc2.33', 'event': 'created'}\n"
     ]
    }
   ],
   "source": [
    "\n",
    "w2v = Word2Vec(dataset, vector_size=300, window=5, min_count=1) #, workers=4)"
   ]
  },
  {
   "cell_type": "code",
   "execution_count": 7,
   "id": "listed-bosnia",
   "metadata": {},
   "outputs": [
    {
     "data": {
      "text/plain": [
       "array([ 1.04086494e+00,  3.55703771e-01, -1.93246198e+00,  9.76665974e-01,\n",
       "        4.44731653e-01,  1.27512360e+00,  1.86183274e+00,  4.18610603e-01,\n",
       "        1.14569359e-01,  1.85299456e+00, -2.07381725e+00,  1.88889742e-01,\n",
       "       -8.62944961e-01,  5.87559760e-01, -9.40929055e-01, -1.76744914e+00,\n",
       "        1.62699342e+00,  2.29871178e+00,  6.61225855e-01,  1.17966640e+00,\n",
       "       -2.06166410e+00, -1.61299741e+00,  5.01114309e-01, -4.07467413e+00,\n",
       "        2.62087202e+00,  2.26167604e-01, -1.88428342e+00, -8.07925403e-01,\n",
       "       -1.13591528e+00,  3.95358622e-01, -1.44756317e-01,  4.59168106e-01,\n",
       "        1.80768740e+00,  2.33720255e+00, -1.74992907e+00,  1.59891474e+00,\n",
       "       -2.52422786e+00,  6.35598004e-02, -1.79670434e-02, -7.74125516e-01,\n",
       "        1.76364553e+00, -2.26480699e+00,  1.24822164e+00, -1.87553629e-01,\n",
       "       -2.85216630e-01,  2.55770302e+00, -1.06903940e-01, -2.11431408e+00,\n",
       "       -3.21030915e-01, -2.44093597e-01, -1.72366011e+00, -1.66884307e-02,\n",
       "        1.32818377e+00,  3.39433002e+00, -1.07013977e+00,  5.33021688e-01,\n",
       "        9.41326201e-01,  1.70403206e+00, -1.65787506e+00,  2.42196727e+00,\n",
       "       -9.79057178e-02, -6.80365920e-01,  3.86538029e+00,  1.60438621e+00,\n",
       "       -2.63688803e-01, -4.14857566e-01,  2.57673621e+00, -1.34105873e+00,\n",
       "       -8.33065212e-01,  5.73486149e-01,  1.42867064e+00,  1.22070920e+00,\n",
       "       -1.34859633e+00,  2.71597862e+00,  1.14675176e+00, -2.68076110e+00,\n",
       "        3.24973971e-01, -4.39989954e-01,  2.36173376e-01,  3.49738777e-01,\n",
       "       -7.91065991e-01,  5.88658988e-01,  2.13033223e+00,  1.50741088e+00,\n",
       "       -2.68214869e+00,  1.13264538e-01,  2.00478244e+00,  5.94491780e-01,\n",
       "        3.80825639e-01, -1.81039885e-01,  1.39374161e+00, -3.92637104e-01,\n",
       "       -4.23403084e-02, -1.35710204e+00, -3.72202444e+00, -9.67985988e-01,\n",
       "        1.56032801e+00,  9.26762521e-01,  1.01624513e+00,  2.11014080e+00,\n",
       "        1.07903890e-01, -3.70411563e+00,  1.73683989e+00, -9.00074661e-01,\n",
       "        4.48200583e-01, -1.48927259e+00,  3.67957622e-01, -2.03091669e+00,\n",
       "       -2.72519541e+00, -2.73541570e-01, -8.50303590e-01,  3.72613907e-01,\n",
       "        1.38170373e+00,  1.63090467e-01,  4.83084828e-01, -1.46831620e+00,\n",
       "       -8.51078928e-01, -1.35207212e+00, -7.47930110e-01, -2.20643950e+00,\n",
       "        1.81788385e+00,  3.34497404e+00, -3.95089054e+00,  3.10459375e+00,\n",
       "       -1.40892947e+00,  2.76947570e+00,  1.54255760e+00, -1.88708544e-01,\n",
       "       -6.57551467e-01, -9.33633924e-01,  1.34554267e-01,  5.67326546e-01,\n",
       "       -1.00307477e+00, -2.06147090e-01,  2.35047364e+00,  1.81429625e-01,\n",
       "       -3.44755912e+00, -1.60117733e+00, -3.04241490e+00, -2.14305782e+00,\n",
       "        8.10664296e-01,  2.66091585e-01, -2.12476897e+00,  2.03392005e+00,\n",
       "        1.35652637e+00, -8.14802170e-01,  1.93524733e-01, -1.67556155e+00,\n",
       "       -7.41149604e-01,  1.53975415e+00, -1.78703809e+00, -1.26260734e+00,\n",
       "       -1.42719996e+00,  7.11400032e-01,  3.57465833e-01,  3.69214249e+00,\n",
       "       -1.91034508e+00, -2.69878991e-02,  9.29092646e-01,  1.24862027e+00,\n",
       "       -1.08223891e+00, -2.05258373e-02, -2.44234487e-01, -4.68399018e-01,\n",
       "       -7.69930422e-01,  5.84818244e-01, -1.14857256e+00, -2.72435416e-03,\n",
       "        1.03620005e+00,  1.02171099e+00,  1.87386155e+00,  8.70720446e-01,\n",
       "        1.07737935e+00, -1.55388999e+00,  9.67895627e-01, -1.63310838e+00,\n",
       "        9.81579125e-01,  3.20012927e-01,  7.94208765e-01,  8.51973519e-02,\n",
       "       -5.32030702e-01,  1.45233631e+00,  2.83875287e-01, -1.24603128e+00,\n",
       "       -1.25747800e-01,  1.38664031e+00,  5.03410757e-01,  1.02647293e+00,\n",
       "       -6.91209614e-01, -2.48096156e+00,  3.44763398e-01,  5.72830200e-01,\n",
       "       -1.63362050e+00,  3.19967628e+00, -3.40199590e-01,  1.77445042e+00,\n",
       "       -1.98282635e+00, -3.24946380e+00, -1.17202961e+00,  1.32046390e+00,\n",
       "        1.26178056e-01,  2.21458960e+00, -2.13299349e-01, -1.17022169e+00,\n",
       "        1.44630345e-02, -2.54995614e-01, -4.34967130e-01, -1.95353627e-02,\n",
       "        2.71766496e+00, -4.99560297e-01,  8.64461005e-01, -5.53554177e-01,\n",
       "        2.75568151e+00,  2.17547584e+00,  1.64792553e-01,  1.40783739e+00,\n",
       "        1.78557420e+00, -7.00633168e-01, -4.83277023e-01,  7.48482287e-01,\n",
       "        2.51950002e+00,  2.26288721e-01, -1.86403167e+00, -7.92731285e-01,\n",
       "        1.36315513e+00,  6.69686675e-01,  6.33387029e-01, -2.93766284e+00,\n",
       "       -7.01359212e-02, -1.53587830e+00, -1.41588259e+00, -4.90062386e-01,\n",
       "       -1.95179597e-01,  1.60440290e+00, -8.05133861e-03, -6.88393712e-01,\n",
       "       -1.11402288e-01,  1.11147791e-01,  2.58687186e+00, -1.53501511e+00,\n",
       "        9.09700811e-01, -1.91551661e+00, -2.05342006e-02, -1.37733746e+00,\n",
       "       -1.15440436e-01, -2.36658216e+00, -6.27311885e-01, -1.24021506e+00,\n",
       "        2.37196103e-01, -4.02156115e-01,  1.09357595e+00,  2.35247850e+00,\n",
       "       -1.34315431e+00,  1.41325191e-01,  1.69535947e+00,  1.94183636e+00,\n",
       "        3.02352428e+00, -3.10905308e-01, -1.87260747e-01, -2.75286227e-01,\n",
       "        3.56324017e-02, -1.02474582e+00, -5.25297940e-01,  3.74964148e-01,\n",
       "        1.31683373e+00,  2.90676475e+00, -1.08489461e-01, -1.58829677e+00,\n",
       "        2.91437554e+00, -7.77925730e-01,  6.70115232e-01, -2.59105945e+00,\n",
       "        2.80621886e-01,  1.35252178e+00, -1.76581132e+00,  1.06397879e+00,\n",
       "        8.40700209e-01, -5.10669470e-01,  1.01900980e-01,  2.18724704e+00,\n",
       "        1.12915210e-01,  1.33450493e-01,  3.96980906e+00,  2.72672474e-02,\n",
       "        2.03039646e+00,  1.43855095e+00,  1.00855350e+00, -7.74592757e-02,\n",
       "       -5.70820153e-01,  1.25542080e+00, -8.95322800e-01,  1.90430951e+00,\n",
       "        1.39052224e+00, -2.21665478e+00,  1.66552222e+00, -3.28003675e-01,\n",
       "        3.32856703e+00,  2.77530408e+00, -2.09594107e+00, -2.91626453e-01],\n",
       "      dtype=float32)"
      ]
     },
     "execution_count": 7,
     "metadata": {},
     "output_type": "execute_result"
    }
   ],
   "source": [
    "w2v.wv['METHOD_NORMAL_EXIT']"
   ]
  },
  {
   "cell_type": "code",
   "execution_count": 7,
   "id": "burning-professional",
   "metadata": {},
   "outputs": [],
   "source": [
    "# for the sake of it\n",
    "vocab = list(w2v.wv.key_to_index)\n",
    "X = w2v.wv[vocab]"
   ]
  },
  {
   "cell_type": "code",
   "execution_count": 8,
   "id": "sixth-think",
   "metadata": {},
   "outputs": [
    {
     "data": {
      "text/plain": [
       "'CALL_RETURN'"
      ]
     },
     "execution_count": 8,
     "metadata": {},
     "output_type": "execute_result"
    }
   ],
   "source": [
    "vocab[5]"
   ]
  },
  {
   "cell_type": "code",
   "execution_count": 9,
   "id": "civilian-beauty",
   "metadata": {},
   "outputs": [
    {
     "data": {
      "text/plain": [
       "(10000, 300)"
      ]
     },
     "execution_count": 9,
     "metadata": {},
     "output_type": "execute_result"
    }
   ],
   "source": [
    "X[0:10000].shape"
   ]
  },
  {
   "cell_type": "code",
   "execution_count": 10,
   "id": "operating-sense",
   "metadata": {},
   "outputs": [],
   "source": [
    "import umap\n",
    "vec_umap = umap.UMAP()\n",
    "X_umap = vec_umap.fit_transform(X[0:1000])\n"
   ]
  },
  {
   "cell_type": "code",
   "execution_count": 23,
   "id": "surprised-bundle",
   "metadata": {
    "scrolled": true
   },
   "outputs": [
    {
     "data": {
      "image/png": "[encoded data removed]",
      "text/plain": [
       "<Figure size 432x288 with 1 Axes>"
      ]
     },
     "metadata": {
      "needs_background": "light"
     },
     "output_type": "display_data"
    }
   ],
   "source": [
    "# hmm, a Rorschach test\n",
    "# at least it turns out that CALL_RETURN and LABEL are more similar than 'Ljava/lang/Object;'\n",
    "fig, ax = plt.subplots()\n",
    "ax.scatter(X_umap.T[0],X_umap.T[1])\n",
    "ax.annotate(vocab[0], xy=(X_umap.T[0][0], X_umap.T[1][0]), xytext=(X_umap.T[0][0]+4, X_umap.T[1][0] + 4),\n",
    "            arrowprops=dict(arrowstyle=\"->\",connectionstyle=\"angle3,angleA=0,angleB=-90\"));\n",
    "ax.annotate(vocab[2], xy=(X_umap.T[0][2], X_umap.T[1][2]), xytext=(X_umap.T[0][2]-7, X_umap.T[1][2]+1),\n",
    "            arrowprops=dict(arrowstyle=\"->\",connectionstyle=\"angle3,angleA=0,angleB=-90\"));\n",
    "ax.annotate(vocab[5], xy=(X_umap.T[0][5], X_umap.T[1][5]), xytext=(X_umap.T[0][5]-7, X_umap.T[1][5]-2),\n",
    "            arrowprops=dict(arrowstyle=\"->\",connectionstyle=\"angle3,angleA=0,angleB=-90\"));"
   ]
  },
  {
   "cell_type": "code",
   "execution_count": 12,
   "id": "accepting-blues",
   "metadata": {},
   "outputs": [
    {
     "data": {
      "text/plain": [
       "('I', 'V', '0', '-1')"
      ]
     },
     "execution_count": 12,
     "metadata": {},
     "output_type": "execute_result"
    }
   ],
   "source": [
    "# it appears I have to do some cleansing\n",
    "vocab[1], vocab[3], vocab[4], vocab[14]"
   ]
  },
  {
   "cell_type": "code",
   "execution_count": null,
   "id": "exotic-jacksonville",
   "metadata": {},
   "outputs": [],
   "source": []
  },
  {
   "cell_type": "markdown",
   "id": "boxed-trauma",
   "metadata": {},
   "source": [
    "### Just ignore everything below\n",
    "---------------- snip ---------------- snip ---------------- snip ----------------"
   ]
  },
  {
   "cell_type": "code",
   "execution_count": 21,
   "id": "japanese-phase",
   "metadata": {},
   "outputs": [
    {
     "name": "stderr",
     "output_type": "stream",
     "text": [
      "/usr/lib/python3/dist-packages/ipykernel/ipkernel.py:283: DeprecationWarning: `should_run_async` will not call `transform_cell` automatically in the future. Please pass the result to `transformed_cell` argument and any exception that happen during thetransform in `preprocessing_exc_tuple` in IPython 7.17 and above.\n",
      "  and should_run_async(code)\n"
     ]
    },
    {
     "name": "stdout",
     "output_type": "stream",
     "text": [
      "2021-06-10T11:37:01.665 INFO gensim.corpora.dictionary.add_documents adding document #0 to Dictionary(0 unique tokens: [])\n",
      "2021-06-10T11:37:01.777 INFO gensim.corpora.dictionary.add_documents adding document #10000 to Dictionary(13948 unique tokens: ['', '-1', '0', 'RESERVED', 'V']...)\n",
      "2021-06-10T11:37:01.895 INFO gensim.corpora.dictionary.add_documents adding document #20000 to Dictionary(26873 unique tokens: ['', '-1', '0', 'RESERVED', 'V']...)\n",
      "2021-06-10T11:37:02.012 INFO gensim.corpora.dictionary.add_documents adding document #30000 to Dictionary(40009 unique tokens: ['', '-1', '0', 'RESERVED', 'V']...)\n",
      "2021-06-10T11:37:02.131 INFO gensim.corpora.dictionary.add_documents adding document #40000 to Dictionary(52744 unique tokens: ['', '-1', '0', 'RESERVED', 'V']...)\n",
      "2021-06-10T11:37:02.246 INFO gensim.corpora.dictionary.add_documents adding document #50000 to Dictionary(65611 unique tokens: ['', '-1', '0', 'RESERVED', 'V']...)\n",
      "2021-06-10T11:37:02.372 INFO gensim.corpora.dictionary.add_documents adding document #60000 to Dictionary(78377 unique tokens: ['', '-1', '0', 'RESERVED', 'V']...)\n",
      "2021-06-10T11:37:02.493 INFO gensim.corpora.dictionary.add_documents adding document #70000 to Dictionary(90913 unique tokens: ['', '-1', '0', 'RESERVED', 'V']...)\n",
      "2021-06-10T11:37:02.613 INFO gensim.corpora.dictionary.add_documents adding document #80000 to Dictionary(103367 unique tokens: ['', '-1', '0', 'RESERVED', 'V']...)\n",
      "2021-06-10T11:37:02.732 INFO gensim.corpora.dictionary.add_documents adding document #90000 to Dictionary(115987 unique tokens: ['', '-1', '0', 'RESERVED', 'V']...)\n",
      "2021-06-10T11:37:02.852 INFO gensim.corpora.dictionary.add_documents adding document #100000 to Dictionary(129052 unique tokens: ['', '-1', '0', 'RESERVED', 'V']...)\n",
      "2021-06-10T11:37:02.970 INFO gensim.corpora.dictionary.add_documents adding document #110000 to Dictionary(141840 unique tokens: ['', '-1', '0', 'RESERVED', 'V']...)\n",
      "2021-06-10T11:37:03.087 INFO gensim.corpora.dictionary.add_documents adding document #120000 to Dictionary(154567 unique tokens: ['', '-1', '0', 'RESERVED', 'V']...)\n",
      "2021-06-10T11:37:03.199 INFO gensim.corpora.dictionary.add_documents adding document #130000 to Dictionary(166995 unique tokens: ['', '-1', '0', 'RESERVED', 'V']...)\n",
      "2021-06-10T11:37:03.320 INFO gensim.corpora.dictionary.add_documents adding document #140000 to Dictionary(179385 unique tokens: ['', '-1', '0', 'RESERVED', 'V']...)\n",
      "2021-06-10T11:37:03.432 INFO gensim.corpora.dictionary.add_documents adding document #150000 to Dictionary(192248 unique tokens: ['', '-1', '0', 'RESERVED', 'V']...)\n",
      "2021-06-10T11:37:03.545 INFO gensim.corpora.dictionary.add_documents adding document #160000 to Dictionary(204649 unique tokens: ['', '-1', '0', 'RESERVED', 'V']...)\n",
      "2021-06-10T11:37:03.656 INFO gensim.corpora.dictionary.add_documents adding document #170000 to Dictionary(216860 unique tokens: ['', '-1', '0', 'RESERVED', 'V']...)\n",
      "2021-06-10T11:37:03.766 INFO gensim.corpora.dictionary.add_documents adding document #180000 to Dictionary(229141 unique tokens: ['', '-1', '0', 'RESERVED', 'V']...)\n",
      "2021-06-10T11:37:03.918 INFO gensim.corpora.dictionary.add_documents adding document #190000 to Dictionary(241504 unique tokens: ['', '-1', '0', 'RESERVED', 'V']...)\n",
      "2021-06-10T11:37:04.027 INFO gensim.corpora.dictionary.add_documents adding document #200000 to Dictionary(254063 unique tokens: ['', '-1', '0', 'RESERVED', 'V']...)\n",
      "2021-06-10T11:37:04.138 INFO gensim.corpora.dictionary.add_documents adding document #210000 to Dictionary(266839 unique tokens: ['', '-1', '0', 'RESERVED', 'V']...)\n",
      "2021-06-10T11:37:04.246 INFO gensim.corpora.dictionary.add_documents adding document #220000 to Dictionary(279072 unique tokens: ['', '-1', '0', 'RESERVED', 'V']...)\n",
      "2021-06-10T11:37:04.353 INFO gensim.corpora.dictionary.add_documents adding document #230000 to Dictionary(291448 unique tokens: ['', '-1', '0', 'RESERVED', 'V']...)\n",
      "2021-06-10T11:37:04.464 INFO gensim.corpora.dictionary.add_documents adding document #240000 to Dictionary(303860 unique tokens: ['', '-1', '0', 'RESERVED', 'V']...)\n",
      "2021-06-10T11:37:04.574 INFO gensim.corpora.dictionary.add_documents adding document #250000 to Dictionary(316278 unique tokens: ['', '-1', '0', 'RESERVED', 'V']...)\n",
      "2021-06-10T11:37:04.685 INFO gensim.corpora.dictionary.add_documents adding document #260000 to Dictionary(329112 unique tokens: ['', '-1', '0', 'RESERVED', 'V']...)\n",
      "2021-06-10T11:37:04.806 INFO gensim.corpora.dictionary.add_documents adding document #270000 to Dictionary(342286 unique tokens: ['', '-1', '0', 'RESERVED', 'V']...)\n",
      "2021-06-10T11:37:04.945 INFO gensim.corpora.dictionary.add_documents adding document #280000 to Dictionary(354761 unique tokens: ['', '-1', '0', 'RESERVED', 'V']...)\n",
      "2021-06-10T11:37:05.064 INFO gensim.corpora.dictionary.add_documents adding document #290000 to Dictionary(367457 unique tokens: ['', '-1', '0', 'RESERVED', 'V']...)\n",
      "2021-06-10T11:37:05.188 INFO gensim.corpora.dictionary.add_documents adding document #300000 to Dictionary(379807 unique tokens: ['', '-1', '0', 'RESERVED', 'V']...)\n",
      "2021-06-10T11:37:05.316 INFO gensim.corpora.dictionary.add_documents adding document #310000 to Dictionary(392422 unique tokens: ['', '-1', '0', 'RESERVED', 'V']...)\n",
      "2021-06-10T11:37:05.440 INFO gensim.corpora.dictionary.add_documents adding document #320000 to Dictionary(404777 unique tokens: ['', '-1', '0', 'RESERVED', 'V']...)\n",
      "2021-06-10T11:37:05.570 INFO gensim.corpora.dictionary.add_documents adding document #330000 to Dictionary(417516 unique tokens: ['', '-1', '0', 'RESERVED', 'V']...)\n",
      "2021-06-10T11:37:05.691 INFO gensim.corpora.dictionary.add_documents adding document #340000 to Dictionary(429939 unique tokens: ['', '-1', '0', 'RESERVED', 'V']...)\n",
      "2021-06-10T11:37:05.809 INFO gensim.corpora.dictionary.add_documents adding document #350000 to Dictionary(442218 unique tokens: ['', '-1', '0', 'RESERVED', 'V']...)\n",
      "2021-06-10T11:37:05.934 INFO gensim.corpora.dictionary.add_documents adding document #360000 to Dictionary(454845 unique tokens: ['', '-1', '0', 'RESERVED', 'V']...)\n",
      "2021-06-10T11:37:06.051 INFO gensim.corpora.dictionary.add_documents adding document #370000 to Dictionary(467334 unique tokens: ['', '-1', '0', 'RESERVED', 'V']...)\n",
      "2021-06-10T11:37:06.164 INFO gensim.corpora.dictionary.add_documents adding document #380000 to Dictionary(480025 unique tokens: ['', '-1', '0', 'RESERVED', 'V']...)\n",
      "2021-06-10T11:37:06.274 INFO gensim.corpora.dictionary.add_documents adding document #390000 to Dictionary(492651 unique tokens: ['', '-1', '0', 'RESERVED', 'V']...)\n",
      "2021-06-10T11:37:06.310 INFO gensim.corpora.dictionary.add_documents built Dictionary(496393 unique tokens: ['', '-1', '0', 'RESERVED', 'V']...) from 393013 documents (total 5109169 corpus positions)\n",
      "2021-06-10T11:37:06.310 INFO gensim.utils.add_lifecycle_event Dictionary lifecycle event {'msg': \"built Dictionary(496393 unique tokens: ['', '-1', '0', 'RESERVED', 'V']...) from 393013 documents (total 5109169 corpus positions)\", 'datetime': '2021-06-10T11:37:06.310575', 'gensim': '4.0.1', 'python': '3.9.5 (default, May 11 2021, 08:20:37) \\n[GCC 10.3.0]', 'platform': 'Linux-5.11.0-18-generic-x86_64-with-glibc2.33', 'event': 'created'}\n"
     ]
    }
   ],
   "source": [
    "from gensim.models import TfidfModel\n",
    "from gensim.corpora import Dictionary\n",
    "\n",
    "np_dataset = df.fillna('').values\n",
    "\n",
    "dct = Dictionary(np_dataset)\n",
    "\n"
   ]
  },
  {
   "cell_type": "code",
   "execution_count": 47,
   "id": "unusual-nature",
   "metadata": {},
   "outputs": [
    {
     "name": "stderr",
     "output_type": "stream",
     "text": [
      "/usr/lib/python3/dist-packages/ipykernel/ipkernel.py:283: DeprecationWarning: `should_run_async` will not call `transform_cell` automatically in the future. Please pass the result to `transformed_cell` argument and any exception that happen during thetransform in `preprocessing_exc_tuple` in IPython 7.17 and above.\n",
      "  and should_run_async(code)\n"
     ]
    },
    {
     "ename": "AttributeError",
     "evalue": "'TfidfModel' object has no attribute 'wv'",
     "output_type": "error",
     "traceback": [
      "\u001b[0;31m---------------------------------------------------------------------------\u001b[0m",
      "\u001b[0;31mAttributeError\u001b[0m                            Traceback (most recent call last)",
      "\u001b[0;32m<ipython-input-47-eafe1876b135>\u001b[0m in \u001b[0;36m<module>\u001b[0;34m\u001b[0m\n\u001b[0;32m----> 1\u001b[0;31m \u001b[0mmodel\u001b[0m\u001b[0;34m.\u001b[0m\u001b[0mwv\u001b[0m\u001b[0;34m\u001b[0m\u001b[0;34m\u001b[0m\u001b[0m\n\u001b[0m",
      "\u001b[0;31mAttributeError\u001b[0m: 'TfidfModel' object has no attribute 'wv'"
     ]
    }
   ],
   "source": [
    "model.wv"
   ]
  },
  {
   "cell_type": "code",
   "execution_count": 22,
   "id": "stuffed-johnson",
   "metadata": {},
   "outputs": [
    {
     "name": "stderr",
     "output_type": "stream",
     "text": [
      "/usr/lib/python3/dist-packages/ipykernel/ipkernel.py:283: DeprecationWarning: `should_run_async` will not call `transform_cell` automatically in the future. Please pass the result to `transformed_cell` argument and any exception that happen during thetransform in `preprocessing_exc_tuple` in IPython 7.17 and above.\n",
      "  and should_run_async(code)\n"
     ]
    }
   ],
   "source": [
    "corpus = [dct.doc2bow(line) for line in np_dataset]"
   ]
  },
  {
   "cell_type": "code",
   "execution_count": 23,
   "id": "variable-smart",
   "metadata": {},
   "outputs": [
    {
     "name": "stdout",
     "output_type": "stream",
     "text": [
      "2021-06-10T11:37:32.567 INFO gensim.models.tfidfmodel.initialize collecting document frequencies\n",
      "2021-06-10T11:37:32.570 INFO gensim.models.tfidfmodel.initialize PROGRESS: processing document #0\n",
      "2021-06-10T11:37:32.606 INFO gensim.models.tfidfmodel.initialize PROGRESS: processing document #10000\n",
      "2021-06-10T11:37:32.627 INFO gensim.models.tfidfmodel.initialize PROGRESS: processing document #20000\n",
      "2021-06-10T11:37:32.645 INFO gensim.models.tfidfmodel.initialize PROGRESS: processing document #30000\n",
      "2021-06-10T11:37:32.662 INFO gensim.models.tfidfmodel.initialize PROGRESS: processing document #40000\n",
      "2021-06-10T11:37:32.675 INFO gensim.models.tfidfmodel.initialize PROGRESS: processing document #50000\n",
      "2021-06-10T11:37:32.690 INFO gensim.models.tfidfmodel.initialize PROGRESS: processing document #60000\n",
      "2021-06-10T11:37:32.703 INFO gensim.models.tfidfmodel.initialize PROGRESS: processing document #70000\n",
      "2021-06-10T11:37:32.716 INFO gensim.models.tfidfmodel.initialize PROGRESS: processing document #80000\n",
      "2021-06-10T11:37:32.729 INFO gensim.models.tfidfmodel.initialize PROGRESS: processing document #90000\n",
      "2021-06-10T11:37:32.742 INFO gensim.models.tfidfmodel.initialize PROGRESS: processing document #100000\n",
      "2021-06-10T11:37:32.757 INFO gensim.models.tfidfmodel.initialize PROGRESS: processing document #110000\n",
      "2021-06-10T11:37:32.770 INFO gensim.models.tfidfmodel.initialize PROGRESS: processing document #120000\n"
     ]
    },
    {
     "name": "stderr",
     "output_type": "stream",
     "text": [
      "/usr/lib/python3/dist-packages/ipykernel/ipkernel.py:283: DeprecationWarning: `should_run_async` will not call `transform_cell` automatically in the future. Please pass the result to `transformed_cell` argument and any exception that happen during thetransform in `preprocessing_exc_tuple` in IPython 7.17 and above.\n",
      "  and should_run_async(code)\n"
     ]
    },
    {
     "name": "stdout",
     "output_type": "stream",
     "text": [
      "2021-06-10T11:37:32.784 INFO gensim.models.tfidfmodel.initialize PROGRESS: processing document #130000\n",
      "2021-06-10T11:37:32.802 INFO gensim.models.tfidfmodel.initialize PROGRESS: processing document #140000\n",
      "2021-06-10T11:37:32.816 INFO gensim.models.tfidfmodel.initialize PROGRESS: processing document #150000\n",
      "2021-06-10T11:37:32.828 INFO gensim.models.tfidfmodel.initialize PROGRESS: processing document #160000\n",
      "2021-06-10T11:37:32.845 INFO gensim.models.tfidfmodel.initialize PROGRESS: processing document #170000\n",
      "2021-06-10T11:37:32.859 INFO gensim.models.tfidfmodel.initialize PROGRESS: processing document #180000\n",
      "2021-06-10T11:37:32.872 INFO gensim.models.tfidfmodel.initialize PROGRESS: processing document #190000\n",
      "2021-06-10T11:37:32.885 INFO gensim.models.tfidfmodel.initialize PROGRESS: processing document #200000\n",
      "2021-06-10T11:37:32.899 INFO gensim.models.tfidfmodel.initialize PROGRESS: processing document #210000\n",
      "2021-06-10T11:37:32.912 INFO gensim.models.tfidfmodel.initialize PROGRESS: processing document #220000\n",
      "2021-06-10T11:37:32.924 INFO gensim.models.tfidfmodel.initialize PROGRESS: processing document #230000\n",
      "2021-06-10T11:37:32.940 INFO gensim.models.tfidfmodel.initialize PROGRESS: processing document #240000\n",
      "2021-06-10T11:37:32.953 INFO gensim.models.tfidfmodel.initialize PROGRESS: processing document #250000\n",
      "2021-06-10T11:37:32.966 INFO gensim.models.tfidfmodel.initialize PROGRESS: processing document #260000\n",
      "2021-06-10T11:37:32.979 INFO gensim.models.tfidfmodel.initialize PROGRESS: processing document #270000\n",
      "2021-06-10T11:37:33.001 INFO gensim.models.tfidfmodel.initialize PROGRESS: processing document #280000\n",
      "2021-06-10T11:37:33.014 INFO gensim.models.tfidfmodel.initialize PROGRESS: processing document #290000\n",
      "2021-06-10T11:37:33.028 INFO gensim.models.tfidfmodel.initialize PROGRESS: processing document #300000\n",
      "2021-06-10T11:37:33.041 INFO gensim.models.tfidfmodel.initialize PROGRESS: processing document #310000\n",
      "2021-06-10T11:37:33.053 INFO gensim.models.tfidfmodel.initialize PROGRESS: processing document #320000\n",
      "2021-06-10T11:37:33.066 INFO gensim.models.tfidfmodel.initialize PROGRESS: processing document #330000\n",
      "2021-06-10T11:37:33.079 INFO gensim.models.tfidfmodel.initialize PROGRESS: processing document #340000\n",
      "2021-06-10T11:37:33.092 INFO gensim.models.tfidfmodel.initialize PROGRESS: processing document #350000\n",
      "2021-06-10T11:37:33.107 INFO gensim.models.tfidfmodel.initialize PROGRESS: processing document #360000\n",
      "2021-06-10T11:37:33.121 INFO gensim.models.tfidfmodel.initialize PROGRESS: processing document #370000\n",
      "2021-06-10T11:37:33.135 INFO gensim.models.tfidfmodel.initialize PROGRESS: processing document #380000\n",
      "2021-06-10T11:37:33.148 INFO gensim.models.tfidfmodel.initialize PROGRESS: processing document #390000\n",
      "2021-06-10T11:37:33.861 INFO gensim.utils.add_lifecycle_event TfidfModel lifecycle event {'msg': 'calculated IDF weights for 393013 documents and 496393 features (3996985 matrix non-zeros)', 'datetime': '2021-06-10T11:37:33.861192', 'gensim': '4.0.1', 'python': '3.9.5 (default, May 11 2021, 08:20:37) \\n[GCC 10.3.0]', 'platform': 'Linux-5.11.0-18-generic-x86_64-with-glibc2.33', 'event': 'initialize'}\n"
     ]
    }
   ],
   "source": [
    "model = TfidfModel(corpus)"
   ]
  },
  {
   "cell_type": "code",
   "execution_count": 28,
   "id": "ancient-stephen",
   "metadata": {},
   "outputs": [
    {
     "name": "stderr",
     "output_type": "stream",
     "text": [
      "/usr/lib/python3/dist-packages/ipykernel/ipkernel.py:283: DeprecationWarning: `should_run_async` will not call `transform_cell` automatically in the future. Please pass the result to `transformed_cell` argument and any exception that happen during thetransform in `preprocessing_exc_tuple` in IPython 7.17 and above.\n",
      "  and should_run_async(code)\n"
     ]
    },
    {
     "data": {
      "text/plain": [
       "array([['0', '0', '0', ..., '', '', ''],\n",
       "       ['1', '0', '0', ..., '', '', ''],\n",
       "       ['2', '0', '0', ..., '', '', ''],\n",
       "       ...,\n",
       "       ['393010', '663', '8562', ..., '', '', ''],\n",
       "       ['393011', '663', '8562', ..., '', '', ''],\n",
       "       ['393012', '663', '8562', ..., '', '', '']], dtype=object)"
      ]
     },
     "execution_count": 28,
     "metadata": {},
     "output_type": "execute_result"
    }
   ],
   "source": [
    "np_dataset"
   ]
  },
  {
   "cell_type": "code",
   "execution_count": 36,
   "id": "amateur-preserve",
   "metadata": {
    "scrolled": false
   },
   "outputs": [
    {
     "name": "stdout",
     "output_type": "stream",
     "text": [
      "2021-06-10T11:45:28.605 INFO gensim.models.word2vec.scan_vocab collecting all words and their counts\n",
      "2021-06-10T11:45:28.606 INFO gensim.models.word2vec._scan_vocab PROGRESS: at sentence #0, processed 0 words, keeping 0 word types\n",
      "2021-06-10T11:45:28.642 INFO gensim.models.word2vec._scan_vocab PROGRESS: at sentence #10000, processed 130000 words, keeping 13948 word types\n",
      "2021-06-10T11:45:28.665 INFO gensim.models.word2vec._scan_vocab PROGRESS: at sentence #20000, processed 260000 words, keeping 26873 word types\n",
      "2021-06-10T11:45:28.692 INFO gensim.models.word2vec._scan_vocab PROGRESS: at sentence #30000, processed 390000 words, keeping 40009 word types\n",
      "2021-06-10T11:45:28.719 INFO gensim.models.word2vec._scan_vocab PROGRESS: at sentence #40000, processed 520000 words, keeping 52744 word types\n",
      "2021-06-10T11:45:28.743 INFO gensim.models.word2vec._scan_vocab PROGRESS: at sentence #50000, processed 650000 words, keeping 65611 word types\n",
      "2021-06-10T11:45:28.769 INFO gensim.models.word2vec._scan_vocab PROGRESS: at sentence #60000, processed 780000 words, keeping 78377 word types\n",
      "2021-06-10T11:45:28.795 INFO gensim.models.word2vec._scan_vocab PROGRESS: at sentence #70000, processed 910000 words, keeping 90913 word types\n"
     ]
    },
    {
     "name": "stderr",
     "output_type": "stream",
     "text": [
      "/usr/lib/python3/dist-packages/ipykernel/ipkernel.py:283: DeprecationWarning: `should_run_async` will not call `transform_cell` automatically in the future. Please pass the result to `transformed_cell` argument and any exception that happen during thetransform in `preprocessing_exc_tuple` in IPython 7.17 and above.\n",
      "  and should_run_async(code)\n"
     ]
    },
    {
     "name": "stdout",
     "output_type": "stream",
     "text": [
      "2021-06-10T11:45:28.822 INFO gensim.models.word2vec._scan_vocab PROGRESS: at sentence #80000, processed 1040000 words, keeping 103367 word types\n",
      "2021-06-10T11:45:28.850 INFO gensim.models.word2vec._scan_vocab PROGRESS: at sentence #90000, processed 1170000 words, keeping 115987 word types\n",
      "2021-06-10T11:45:28.877 INFO gensim.models.word2vec._scan_vocab PROGRESS: at sentence #100000, processed 1300000 words, keeping 129052 word types\n",
      "2021-06-10T11:45:28.904 INFO gensim.models.word2vec._scan_vocab PROGRESS: at sentence #110000, processed 1430000 words, keeping 141840 word types\n",
      "2021-06-10T11:45:28.929 INFO gensim.models.word2vec._scan_vocab PROGRESS: at sentence #120000, processed 1560000 words, keeping 154567 word types\n",
      "2021-06-10T11:45:28.955 INFO gensim.models.word2vec._scan_vocab PROGRESS: at sentence #130000, processed 1690000 words, keeping 166995 word types\n",
      "2021-06-10T11:45:28.983 INFO gensim.models.word2vec._scan_vocab PROGRESS: at sentence #140000, processed 1820000 words, keeping 179385 word types\n",
      "2021-06-10T11:45:29.011 INFO gensim.models.word2vec._scan_vocab PROGRESS: at sentence #150000, processed 1950000 words, keeping 192248 word types\n",
      "2021-06-10T11:45:29.038 INFO gensim.models.word2vec._scan_vocab PROGRESS: at sentence #160000, processed 2080000 words, keeping 204649 word types\n",
      "2021-06-10T11:45:29.065 INFO gensim.models.word2vec._scan_vocab PROGRESS: at sentence #170000, processed 2210000 words, keeping 216860 word types\n",
      "2021-06-10T11:45:29.094 INFO gensim.models.word2vec._scan_vocab PROGRESS: at sentence #180000, processed 2340000 words, keeping 229141 word types\n",
      "2021-06-10T11:45:29.122 INFO gensim.models.word2vec._scan_vocab PROGRESS: at sentence #190000, processed 2470000 words, keeping 241504 word types\n",
      "2021-06-10T11:45:29.151 INFO gensim.models.word2vec._scan_vocab PROGRESS: at sentence #200000, processed 2600000 words, keeping 254063 word types\n",
      "2021-06-10T11:45:29.180 INFO gensim.models.word2vec._scan_vocab PROGRESS: at sentence #210000, processed 2730000 words, keeping 266839 word types\n",
      "2021-06-10T11:45:29.210 INFO gensim.models.word2vec._scan_vocab PROGRESS: at sentence #220000, processed 2860000 words, keeping 279072 word types\n",
      "2021-06-10T11:45:29.240 INFO gensim.models.word2vec._scan_vocab PROGRESS: at sentence #230000, processed 2990000 words, keeping 291448 word types\n",
      "2021-06-10T11:45:29.270 INFO gensim.models.word2vec._scan_vocab PROGRESS: at sentence #240000, processed 3120000 words, keeping 303860 word types\n",
      "2021-06-10T11:45:29.297 INFO gensim.models.word2vec._scan_vocab PROGRESS: at sentence #250000, processed 3250000 words, keeping 316278 word types\n",
      "2021-06-10T11:45:29.323 INFO gensim.models.word2vec._scan_vocab PROGRESS: at sentence #260000, processed 3380000 words, keeping 329112 word types\n",
      "2021-06-10T11:45:29.351 INFO gensim.models.word2vec._scan_vocab PROGRESS: at sentence #270000, processed 3510000 words, keeping 342286 word types\n",
      "2021-06-10T11:45:29.383 INFO gensim.models.word2vec._scan_vocab PROGRESS: at sentence #280000, processed 3640000 words, keeping 354761 word types\n",
      "2021-06-10T11:45:29.409 INFO gensim.models.word2vec._scan_vocab PROGRESS: at sentence #290000, processed 3770000 words, keeping 367457 word types\n",
      "2021-06-10T11:45:29.437 INFO gensim.models.word2vec._scan_vocab PROGRESS: at sentence #300000, processed 3900000 words, keeping 379807 word types\n",
      "2021-06-10T11:45:29.464 INFO gensim.models.word2vec._scan_vocab PROGRESS: at sentence #310000, processed 4030000 words, keeping 392422 word types\n",
      "2021-06-10T11:45:29.490 INFO gensim.models.word2vec._scan_vocab PROGRESS: at sentence #320000, processed 4160000 words, keeping 404777 word types\n",
      "2021-06-10T11:45:29.517 INFO gensim.models.word2vec._scan_vocab PROGRESS: at sentence #330000, processed 4290000 words, keeping 417516 word types\n",
      "2021-06-10T11:45:29.545 INFO gensim.models.word2vec._scan_vocab PROGRESS: at sentence #340000, processed 4420000 words, keeping 429939 word types\n",
      "2021-06-10T11:45:29.572 INFO gensim.models.word2vec._scan_vocab PROGRESS: at sentence #350000, processed 4550000 words, keeping 442218 word types\n",
      "2021-06-10T11:45:29.598 INFO gensim.models.word2vec._scan_vocab PROGRESS: at sentence #360000, processed 4680000 words, keeping 454845 word types\n",
      "2021-06-10T11:45:29.629 INFO gensim.models.word2vec._scan_vocab PROGRESS: at sentence #370000, processed 4810000 words, keeping 467334 word types\n",
      "2021-06-10T11:45:29.660 INFO gensim.models.word2vec._scan_vocab PROGRESS: at sentence #380000, processed 4940000 words, keeping 480025 word types\n",
      "2021-06-10T11:45:29.690 INFO gensim.models.word2vec._scan_vocab PROGRESS: at sentence #390000, processed 5070000 words, keeping 492651 word types\n",
      "2021-06-10T11:45:29.698 INFO gensim.models.word2vec.scan_vocab collected 496393 word types from a corpus of 5109169 raw words and 393013 sentences\n",
      "2021-06-10T11:45:29.699 INFO gensim.models.word2vec.prepare_vocab Creating a fresh vocabulary\n",
      "2021-06-10T11:45:31.004 INFO gensim.utils.add_lifecycle_event Word2Vec lifecycle event {'msg': 'effective_min_count=1 retains 496393 unique words (100.0%% of original 496393, drops 0)', 'datetime': '2021-06-10T11:45:31.004575', 'gensim': '4.0.1', 'python': '3.9.5 (default, May 11 2021, 08:20:37) \\n[GCC 10.3.0]', 'platform': 'Linux-5.11.0-18-generic-x86_64-with-glibc2.33', 'event': 'prepare_vocab'}\n",
      "2021-06-10T11:45:31.005 INFO gensim.utils.add_lifecycle_event Word2Vec lifecycle event {'msg': 'effective_min_count=1 leaves 5109169 word corpus (100.0%% of original 5109169, drops 0)', 'datetime': '2021-06-10T11:45:31.005235', 'gensim': '4.0.1', 'python': '3.9.5 (default, May 11 2021, 08:20:37) \\n[GCC 10.3.0]', 'platform': 'Linux-5.11.0-18-generic-x86_64-with-glibc2.33', 'event': 'prepare_vocab'}\n",
      "2021-06-10T11:45:33.048 INFO gensim.models.word2vec.prepare_vocab deleting the raw counts dictionary of 496393 items\n",
      "2021-06-10T11:45:33.057 INFO gensim.models.word2vec.prepare_vocab sample=0.001 downsamples 22 most-common words\n",
      "2021-06-10T11:45:33.057 INFO gensim.utils.add_lifecycle_event Word2Vec lifecycle event {'msg': 'downsampling leaves estimated 3234111.0934083103 word corpus (63.3%% of prior 5109169)', 'datetime': '2021-06-10T11:45:33.057592', 'gensim': '4.0.1', 'python': '3.9.5 (default, May 11 2021, 08:20:37) \\n[GCC 10.3.0]', 'platform': 'Linux-5.11.0-18-generic-x86_64-with-glibc2.33', 'event': 'prepare_vocab'}\n",
      "2021-06-10T11:45:36.422 INFO gensim.models.word2vec.estimate_memory estimated required memory for 496393 words and 100 dimensions: 645310900 bytes\n",
      "2021-06-10T11:45:36.423 INFO gensim.models.word2vec.init_weights resetting layer weights\n",
      "2021-06-10T11:45:36.743 INFO gensim.utils.add_lifecycle_event Word2Vec lifecycle event {'update': False, 'trim_rule': 'None', 'datetime': '2021-06-10T11:45:36.743060', 'gensim': '4.0.1', 'python': '3.9.5 (default, May 11 2021, 08:20:37) \\n[GCC 10.3.0]', 'platform': 'Linux-5.11.0-18-generic-x86_64-with-glibc2.33', 'event': 'build_vocab'}\n",
      "2021-06-10T11:45:36.743 INFO gensim.utils.add_lifecycle_event Word2Vec lifecycle event {'msg': 'training model with 3 workers on 496393 vocabulary and 100 features, using sg=0 hs=0 sample=0.001 negative=5 window=5', 'datetime': '2021-06-10T11:45:36.743984', 'gensim': '4.0.1', 'python': '3.9.5 (default, May 11 2021, 08:20:37) \\n[GCC 10.3.0]', 'platform': 'Linux-5.11.0-18-generic-x86_64-with-glibc2.33', 'event': 'train'}\n"
     ]
    },
    {
     "name": "stderr",
     "output_type": "stream",
     "text": [
      "Exception in thread Thread-9:\n",
      "Traceback (most recent call last):\n",
      "  File \"/usr/lib/python3.9/threading.py\", line 954, in _bootstrap_inner\n",
      "Exception in thread Thread-10:\n",
      "Traceback (most recent call last):\n",
      "  File \"/usr/lib/python3.9/threading.py\", line 954, in _bootstrap_inner\n",
      "Exception in thread Thread-11:\n",
      "Traceback (most recent call last):\n",
      "  File \"/usr/lib/python3.9/threading.py\", line 954, in _bootstrap_inner\n",
      "        self.run()\n",
      "self.run()\n",
      "  File \"/usr/lib/python3.9/threading.py\", line 892, in run\n",
      "  File \"/usr/lib/python3.9/threading.py\", line 892, in run\n",
      "        self._target(*self._args, **self._kwargs)\n",
      "  File \"/home/markus/.local/lib/python3.9/site-packages/gensim/models/word2vec.py\", line 1155, in _worker_loop\n",
      "    self.run()\n",
      "  File \"/usr/lib/python3.9/threading.py\", line 892, in run\n",
      "self._target(*self._args, **self._kwargs)\n",
      "    self._target(*self._args, **self._kwargs)\n",
      "  File \"/home/markus/.local/lib/python3.9/site-packages/gensim/models/word2vec.py\", line 1155, in _worker_loop\n",
      "  File \"/home/markus/.local/lib/python3.9/site-packages/gensim/models/word2vec.py\", line 1155, in _worker_loop\n",
      "        tally, raw_tally = self._do_train_job(data_iterable, alpha, thread_private_mem)\n",
      "  File \"/home/markus/.local/lib/python3.9/site-packages/gensim/models/word2vec.py\", line 946, in _do_train_job\n",
      "tally, raw_tally = self._do_train_job(data_iterable, alpha, thread_private_mem)\n",
      "  File \"/home/markus/.local/lib/python3.9/site-packages/gensim/models/word2vec.py\", line 946, in _do_train_job\n",
      "    tally, raw_tally = self._do_train_job(data_iterable, alpha, thread_private_mem)\n",
      "  File \"/home/markus/.local/lib/python3.9/site-packages/gensim/models/word2vec.py\", line 946, in _do_train_job\n",
      "    tally += train_batch_cbow(self, sentences, alpha, work, neu1, self.compute_loss)\n",
      "  File \"gensim/models/word2vec_inner.pyx\", line 638, in gensim.models.word2vec_inner.train_batch_cbow\n",
      "    tally += train_batch_cbow(self, sentences, alpha, work, neu1, self.compute_loss)\n",
      "  File \"gensim/models/word2vec_inner.pyx\", line 638, in gensim.models.word2vec_inner.train_batch_cbow\n",
      "    tally += train_batch_cbow(self, sentences, alpha, work, neu1, self.compute_loss)\n",
      "  File \"gensim/models/word2vec_inner.pyx\", line 638, in gensim.models.word2vec_inner.train_batch_cbow\n",
      "ValueError: The truth value of an array with more than one element is ambiguous. Use a.any() or a.all()\n",
      "ValueErrorValueError: The truth value of an array with more than one element is ambiguous. Use a.any() or a.all()\n",
      ": The truth value of an array with more than one element is ambiguous. Use a.any() or a.all()\n"
     ]
    },
    {
     "ename": "KeyboardInterrupt",
     "evalue": "",
     "output_type": "error",
     "traceback": [
      "\u001b[0;31m---------------------------------------------------------------------------\u001b[0m",
      "\u001b[0;31mKeyboardInterrupt\u001b[0m                         Traceback (most recent call last)",
      "\u001b[0;32m<ipython-input-36-0b3f2a4361a9>\u001b[0m in \u001b[0;36m<module>\u001b[0;34m\u001b[0m\n\u001b[1;32m      1\u001b[0m \u001b[0;32mfrom\u001b[0m \u001b[0mgensim\u001b[0m\u001b[0;34m.\u001b[0m\u001b[0mmodels\u001b[0m \u001b[0;32mimport\u001b[0m \u001b[0mWord2Vec\u001b[0m\u001b[0;34m,\u001b[0m \u001b[0mFastText\u001b[0m\u001b[0;34m\u001b[0m\u001b[0;34m\u001b[0m\u001b[0m\n\u001b[0;32m----> 2\u001b[0;31m \u001b[0mw2v\u001b[0m \u001b[0;34m=\u001b[0m \u001b[0mWord2Vec\u001b[0m\u001b[0;34m(\u001b[0m\u001b[0mnp_dataset\u001b[0m\u001b[0;34m,\u001b[0m \u001b[0mvector_size\u001b[0m\u001b[0;34m=\u001b[0m\u001b[0;36m100\u001b[0m\u001b[0;34m,\u001b[0m \u001b[0mwindow\u001b[0m\u001b[0;34m=\u001b[0m\u001b[0;36m5\u001b[0m\u001b[0;34m,\u001b[0m \u001b[0mmin_count\u001b[0m\u001b[0;34m=\u001b[0m\u001b[0;36m1\u001b[0m\u001b[0;34m)\u001b[0m \u001b[0;31m#, workers=4)\u001b[0m\u001b[0;34m\u001b[0m\u001b[0;34m\u001b[0m\u001b[0m\n\u001b[0m",
      "\u001b[0;32m~/.local/lib/python3.9/site-packages/gensim/models/word2vec.py\u001b[0m in \u001b[0;36m__init__\u001b[0;34m(self, sentences, corpus_file, vector_size, alpha, window, min_count, max_vocab_size, sample, seed, workers, min_alpha, sg, hs, negative, ns_exponent, cbow_mean, hashfxn, epochs, null_word, trim_rule, sorted_vocab, batch_words, compute_loss, callbacks, comment, max_final_vocab)\u001b[0m\n\u001b[1;32m    417\u001b[0m             \u001b[0mself\u001b[0m\u001b[0;34m.\u001b[0m\u001b[0m_check_corpus_sanity\u001b[0m\u001b[0;34m(\u001b[0m\u001b[0mcorpus_iterable\u001b[0m\u001b[0;34m=\u001b[0m\u001b[0mcorpus_iterable\u001b[0m\u001b[0;34m,\u001b[0m \u001b[0mcorpus_file\u001b[0m\u001b[0;34m=\u001b[0m\u001b[0mcorpus_file\u001b[0m\u001b[0;34m,\u001b[0m \u001b[0mpasses\u001b[0m\u001b[0;34m=\u001b[0m\u001b[0;34m(\u001b[0m\u001b[0mepochs\u001b[0m \u001b[0;34m+\u001b[0m \u001b[0;36m1\u001b[0m\u001b[0;34m)\u001b[0m\u001b[0;34m)\u001b[0m\u001b[0;34m\u001b[0m\u001b[0;34m\u001b[0m\u001b[0m\n\u001b[1;32m    418\u001b[0m             \u001b[0mself\u001b[0m\u001b[0;34m.\u001b[0m\u001b[0mbuild_vocab\u001b[0m\u001b[0;34m(\u001b[0m\u001b[0mcorpus_iterable\u001b[0m\u001b[0;34m=\u001b[0m\u001b[0mcorpus_iterable\u001b[0m\u001b[0;34m,\u001b[0m \u001b[0mcorpus_file\u001b[0m\u001b[0;34m=\u001b[0m\u001b[0mcorpus_file\u001b[0m\u001b[0;34m,\u001b[0m \u001b[0mtrim_rule\u001b[0m\u001b[0;34m=\u001b[0m\u001b[0mtrim_rule\u001b[0m\u001b[0;34m)\u001b[0m\u001b[0;34m\u001b[0m\u001b[0;34m\u001b[0m\u001b[0m\n\u001b[0;32m--> 419\u001b[0;31m             self.train(\n\u001b[0m\u001b[1;32m    420\u001b[0m                 \u001b[0mcorpus_iterable\u001b[0m\u001b[0;34m=\u001b[0m\u001b[0mcorpus_iterable\u001b[0m\u001b[0;34m,\u001b[0m \u001b[0mcorpus_file\u001b[0m\u001b[0;34m=\u001b[0m\u001b[0mcorpus_file\u001b[0m\u001b[0;34m,\u001b[0m \u001b[0mtotal_examples\u001b[0m\u001b[0;34m=\u001b[0m\u001b[0mself\u001b[0m\u001b[0;34m.\u001b[0m\u001b[0mcorpus_count\u001b[0m\u001b[0;34m,\u001b[0m\u001b[0;34m\u001b[0m\u001b[0;34m\u001b[0m\u001b[0m\n\u001b[1;32m    421\u001b[0m                 \u001b[0mtotal_words\u001b[0m\u001b[0;34m=\u001b[0m\u001b[0mself\u001b[0m\u001b[0;34m.\u001b[0m\u001b[0mcorpus_total_words\u001b[0m\u001b[0;34m,\u001b[0m \u001b[0mepochs\u001b[0m\u001b[0;34m=\u001b[0m\u001b[0mself\u001b[0m\u001b[0;34m.\u001b[0m\u001b[0mepochs\u001b[0m\u001b[0;34m,\u001b[0m \u001b[0mstart_alpha\u001b[0m\u001b[0;34m=\u001b[0m\u001b[0mself\u001b[0m\u001b[0;34m.\u001b[0m\u001b[0malpha\u001b[0m\u001b[0;34m,\u001b[0m\u001b[0;34m\u001b[0m\u001b[0;34m\u001b[0m\u001b[0m\n",
      "\u001b[0;32m~/.local/lib/python3.9/site-packages/gensim/models/word2vec.py\u001b[0m in \u001b[0;36mtrain\u001b[0;34m(self, corpus_iterable, corpus_file, total_examples, total_words, epochs, start_alpha, end_alpha, word_count, queue_factor, report_delay, compute_loss, callbacks, **kwargs)\u001b[0m\n\u001b[1;32m   1060\u001b[0m \u001b[0;34m\u001b[0m\u001b[0m\n\u001b[1;32m   1061\u001b[0m             \u001b[0;32mif\u001b[0m \u001b[0mcorpus_iterable\u001b[0m \u001b[0;32mis\u001b[0m \u001b[0;32mnot\u001b[0m \u001b[0;32mNone\u001b[0m\u001b[0;34m:\u001b[0m\u001b[0;34m\u001b[0m\u001b[0;34m\u001b[0m\u001b[0m\n\u001b[0;32m-> 1062\u001b[0;31m                 trained_word_count_epoch, raw_word_count_epoch, job_tally_epoch = self._train_epoch(\n\u001b[0m\u001b[1;32m   1063\u001b[0m                     \u001b[0mcorpus_iterable\u001b[0m\u001b[0;34m,\u001b[0m \u001b[0mcur_epoch\u001b[0m\u001b[0;34m=\u001b[0m\u001b[0mcur_epoch\u001b[0m\u001b[0;34m,\u001b[0m \u001b[0mtotal_examples\u001b[0m\u001b[0;34m=\u001b[0m\u001b[0mtotal_examples\u001b[0m\u001b[0;34m,\u001b[0m\u001b[0;34m\u001b[0m\u001b[0;34m\u001b[0m\u001b[0m\n\u001b[1;32m   1064\u001b[0m                     \u001b[0mtotal_words\u001b[0m\u001b[0;34m=\u001b[0m\u001b[0mtotal_words\u001b[0m\u001b[0;34m,\u001b[0m \u001b[0mqueue_factor\u001b[0m\u001b[0;34m=\u001b[0m\u001b[0mqueue_factor\u001b[0m\u001b[0;34m,\u001b[0m \u001b[0mreport_delay\u001b[0m\u001b[0;34m=\u001b[0m\u001b[0mreport_delay\u001b[0m\u001b[0;34m,\u001b[0m\u001b[0;34m\u001b[0m\u001b[0;34m\u001b[0m\u001b[0m\n",
      "\u001b[0;32m~/.local/lib/python3.9/site-packages/gensim/models/word2vec.py\u001b[0m in \u001b[0;36m_train_epoch\u001b[0;34m(self, data_iterable, cur_epoch, total_examples, total_words, queue_factor, report_delay, callbacks)\u001b[0m\n\u001b[1;32m   1421\u001b[0m             \u001b[0mthread\u001b[0m\u001b[0;34m.\u001b[0m\u001b[0mstart\u001b[0m\u001b[0;34m(\u001b[0m\u001b[0;34m)\u001b[0m\u001b[0;34m\u001b[0m\u001b[0;34m\u001b[0m\u001b[0m\n\u001b[1;32m   1422\u001b[0m \u001b[0;34m\u001b[0m\u001b[0m\n\u001b[0;32m-> 1423\u001b[0;31m         trained_word_count, raw_word_count, job_tally = self._log_epoch_progress(\n\u001b[0m\u001b[1;32m   1424\u001b[0m             \u001b[0mprogress_queue\u001b[0m\u001b[0;34m,\u001b[0m \u001b[0mjob_queue\u001b[0m\u001b[0;34m,\u001b[0m \u001b[0mcur_epoch\u001b[0m\u001b[0;34m=\u001b[0m\u001b[0mcur_epoch\u001b[0m\u001b[0;34m,\u001b[0m \u001b[0mtotal_examples\u001b[0m\u001b[0;34m=\u001b[0m\u001b[0mtotal_examples\u001b[0m\u001b[0;34m,\u001b[0m\u001b[0;34m\u001b[0m\u001b[0;34m\u001b[0m\u001b[0m\n\u001b[1;32m   1425\u001b[0m             \u001b[0mtotal_words\u001b[0m\u001b[0;34m=\u001b[0m\u001b[0mtotal_words\u001b[0m\u001b[0;34m,\u001b[0m \u001b[0mreport_delay\u001b[0m\u001b[0;34m=\u001b[0m\u001b[0mreport_delay\u001b[0m\u001b[0;34m,\u001b[0m \u001b[0mis_corpus_file_mode\u001b[0m\u001b[0;34m=\u001b[0m\u001b[0;32mFalse\u001b[0m\u001b[0;34m,\u001b[0m\u001b[0;34m\u001b[0m\u001b[0;34m\u001b[0m\u001b[0m\n",
      "\u001b[0;32m~/.local/lib/python3.9/site-packages/gensim/models/word2vec.py\u001b[0m in \u001b[0;36m_log_epoch_progress\u001b[0;34m(self, progress_queue, job_queue, cur_epoch, total_examples, total_words, report_delay, is_corpus_file_mode)\u001b[0m\n\u001b[1;32m   1276\u001b[0m \u001b[0;34m\u001b[0m\u001b[0m\n\u001b[1;32m   1277\u001b[0m         \u001b[0;32mwhile\u001b[0m \u001b[0munfinished_worker_count\u001b[0m \u001b[0;34m>\u001b[0m \u001b[0;36m0\u001b[0m\u001b[0;34m:\u001b[0m\u001b[0;34m\u001b[0m\u001b[0;34m\u001b[0m\u001b[0m\n\u001b[0;32m-> 1278\u001b[0;31m             \u001b[0mreport\u001b[0m \u001b[0;34m=\u001b[0m \u001b[0mprogress_queue\u001b[0m\u001b[0;34m.\u001b[0m\u001b[0mget\u001b[0m\u001b[0;34m(\u001b[0m\u001b[0;34m)\u001b[0m  \u001b[0;31m# blocks if workers too slow\u001b[0m\u001b[0;34m\u001b[0m\u001b[0;34m\u001b[0m\u001b[0m\n\u001b[0m\u001b[1;32m   1279\u001b[0m             \u001b[0;32mif\u001b[0m \u001b[0mreport\u001b[0m \u001b[0;32mis\u001b[0m \u001b[0;32mNone\u001b[0m\u001b[0;34m:\u001b[0m  \u001b[0;31m# a thread reporting that it finished\u001b[0m\u001b[0;34m\u001b[0m\u001b[0;34m\u001b[0m\u001b[0m\n\u001b[1;32m   1280\u001b[0m                 \u001b[0munfinished_worker_count\u001b[0m \u001b[0;34m-=\u001b[0m \u001b[0;36m1\u001b[0m\u001b[0;34m\u001b[0m\u001b[0;34m\u001b[0m\u001b[0m\n",
      "\u001b[0;32m/usr/lib/python3.9/queue.py\u001b[0m in \u001b[0;36mget\u001b[0;34m(self, block, timeout)\u001b[0m\n\u001b[1;32m    169\u001b[0m             \u001b[0;32melif\u001b[0m \u001b[0mtimeout\u001b[0m \u001b[0;32mis\u001b[0m \u001b[0;32mNone\u001b[0m\u001b[0;34m:\u001b[0m\u001b[0;34m\u001b[0m\u001b[0;34m\u001b[0m\u001b[0m\n\u001b[1;32m    170\u001b[0m                 \u001b[0;32mwhile\u001b[0m \u001b[0;32mnot\u001b[0m \u001b[0mself\u001b[0m\u001b[0;34m.\u001b[0m\u001b[0m_qsize\u001b[0m\u001b[0;34m(\u001b[0m\u001b[0;34m)\u001b[0m\u001b[0;34m:\u001b[0m\u001b[0;34m\u001b[0m\u001b[0;34m\u001b[0m\u001b[0m\n\u001b[0;32m--> 171\u001b[0;31m                     \u001b[0mself\u001b[0m\u001b[0;34m.\u001b[0m\u001b[0mnot_empty\u001b[0m\u001b[0;34m.\u001b[0m\u001b[0mwait\u001b[0m\u001b[0;34m(\u001b[0m\u001b[0;34m)\u001b[0m\u001b[0;34m\u001b[0m\u001b[0;34m\u001b[0m\u001b[0m\n\u001b[0m\u001b[1;32m    172\u001b[0m             \u001b[0;32melif\u001b[0m \u001b[0mtimeout\u001b[0m \u001b[0;34m<\u001b[0m \u001b[0;36m0\u001b[0m\u001b[0;34m:\u001b[0m\u001b[0;34m\u001b[0m\u001b[0;34m\u001b[0m\u001b[0m\n\u001b[1;32m    173\u001b[0m                 \u001b[0;32mraise\u001b[0m \u001b[0mValueError\u001b[0m\u001b[0;34m(\u001b[0m\u001b[0;34m\"'timeout' must be a non-negative number\"\u001b[0m\u001b[0;34m)\u001b[0m\u001b[0;34m\u001b[0m\u001b[0;34m\u001b[0m\u001b[0m\n",
      "\u001b[0;32m/usr/lib/python3.9/threading.py\u001b[0m in \u001b[0;36mwait\u001b[0;34m(self, timeout)\u001b[0m\n\u001b[1;32m    310\u001b[0m         \u001b[0;32mtry\u001b[0m\u001b[0;34m:\u001b[0m    \u001b[0;31m# restore state no matter what (e.g., KeyboardInterrupt)\u001b[0m\u001b[0;34m\u001b[0m\u001b[0;34m\u001b[0m\u001b[0m\n\u001b[1;32m    311\u001b[0m             \u001b[0;32mif\u001b[0m \u001b[0mtimeout\u001b[0m \u001b[0;32mis\u001b[0m \u001b[0;32mNone\u001b[0m\u001b[0;34m:\u001b[0m\u001b[0;34m\u001b[0m\u001b[0;34m\u001b[0m\u001b[0m\n\u001b[0;32m--> 312\u001b[0;31m                 \u001b[0mwaiter\u001b[0m\u001b[0;34m.\u001b[0m\u001b[0macquire\u001b[0m\u001b[0;34m(\u001b[0m\u001b[0;34m)\u001b[0m\u001b[0;34m\u001b[0m\u001b[0;34m\u001b[0m\u001b[0m\n\u001b[0m\u001b[1;32m    313\u001b[0m                 \u001b[0mgotit\u001b[0m \u001b[0;34m=\u001b[0m \u001b[0;32mTrue\u001b[0m\u001b[0;34m\u001b[0m\u001b[0;34m\u001b[0m\u001b[0m\n\u001b[1;32m    314\u001b[0m             \u001b[0;32melse\u001b[0m\u001b[0;34m:\u001b[0m\u001b[0;34m\u001b[0m\u001b[0;34m\u001b[0m\u001b[0m\n",
      "\u001b[0;31mKeyboardInterrupt\u001b[0m: "
     ]
    }
   ],
   "source": [
    "from gensim.models import Word2Vec, FastText\n",
    "w2v = Word2Vec(np_dataset, vector_size=100, window=5, min_count=1) #, workers=4)"
   ]
  },
  {
   "cell_type": "code",
   "execution_count": 25,
   "id": "sealed-renewal",
   "metadata": {},
   "outputs": [
    {
     "name": "stderr",
     "output_type": "stream",
     "text": [
      "/usr/lib/python3/dist-packages/ipykernel/ipkernel.py:283: DeprecationWarning: `should_run_async` will not call `transform_cell` automatically in the future. Please pass the result to `transformed_cell` argument and any exception that happen during thetransform in `preprocessing_exc_tuple` in IPython 7.17 and above.\n",
      "  and should_run_async(code)\n"
     ]
    },
    {
     "data": {
      "text/plain": [
       "[(0, 0.003180367836896374),\n",
       " (1, 0.43117049283736947),\n",
       " (2, 0.47904036863255917),\n",
       " (3, 0.21558524641868473),\n",
       " (4, 0.10668838349680328),\n",
       " (5, 0.7257704919191865)]"
      ]
     },
     "execution_count": 25,
     "metadata": {},
     "output_type": "execute_result"
    }
   ],
   "source": [
    "vector"
   ]
  },
  {
   "cell_type": "code",
   "execution_count": 15,
   "id": "scheduled-rescue",
   "metadata": {},
   "outputs": [
    {
     "name": "stdout",
     "output_type": "stream",
     "text": [
      "2021-06-10T11:14:30.127 INFO gensim.utils.add_lifecycle_event FastText lifecycle event {'params': 'FastText(vocab=0, vector_size=100, alpha=0.025)', 'datetime': '2021-06-10T11:14:30.127270', 'gensim': '4.0.1', 'python': '3.9.5 (default, May 11 2021, 08:20:37) \\n[GCC 10.3.0]', 'platform': 'Linux-5.11.0-18-generic-x86_64-with-glibc2.33', 'event': 'created'}\n"
     ]
    },
    {
     "name": "stderr",
     "output_type": "stream",
     "text": [
      "/usr/lib/python3/dist-packages/ipykernel/ipkernel.py:283: DeprecationWarning: `should_run_async` will not call `transform_cell` automatically in the future. Please pass the result to `transformed_cell` argument and any exception that happen during thetransform in `preprocessing_exc_tuple` in IPython 7.17 and above.\n",
      "  and should_run_async(code)\n"
     ]
    },
    {
     "ename": "TypeError",
     "evalue": "stat: path should be string, bytes, os.PathLike or integer, not DataFrame",
     "output_type": "error",
     "traceback": [
      "\u001b[0;31m---------------------------------------------------------------------------\u001b[0m",
      "\u001b[0;31mTypeError\u001b[0m                                 Traceback (most recent call last)",
      "\u001b[0;32m<ipython-input-15-fd0865ee3752>\u001b[0m in \u001b[0;36m<module>\u001b[0;34m\u001b[0m\n\u001b[1;32m      3\u001b[0m \u001b[0mmodel\u001b[0m \u001b[0;34m=\u001b[0m \u001b[0mFastText\u001b[0m\u001b[0;34m(\u001b[0m\u001b[0mvector_size\u001b[0m\u001b[0;34m=\u001b[0m\u001b[0;36m100\u001b[0m\u001b[0;34m)\u001b[0m\u001b[0;34m\u001b[0m\u001b[0;34m\u001b[0m\u001b[0m\n\u001b[1;32m      4\u001b[0m \u001b[0;34m\u001b[0m\u001b[0m\n\u001b[0;32m----> 5\u001b[0;31m \u001b[0mmodel\u001b[0m\u001b[0;34m.\u001b[0m\u001b[0mbuild_vocab\u001b[0m\u001b[0;34m(\u001b[0m\u001b[0mcorpus_file\u001b[0m\u001b[0;34m=\u001b[0m\u001b[0mdf\u001b[0m\u001b[0;34m)\u001b[0m\u001b[0;34m\u001b[0m\u001b[0;34m\u001b[0m\u001b[0m\n\u001b[0m",
      "\u001b[0;32m~/.local/lib/python3.9/site-packages/gensim/models/word2vec.py\u001b[0m in \u001b[0;36mbuild_vocab\u001b[0;34m(self, corpus_iterable, corpus_file, update, progress_per, keep_raw_vocab, trim_rule, **kwargs)\u001b[0m\n\u001b[1;32m    477\u001b[0m \u001b[0;34m\u001b[0m\u001b[0m\n\u001b[1;32m    478\u001b[0m         \"\"\"\n\u001b[0;32m--> 479\u001b[0;31m         \u001b[0mself\u001b[0m\u001b[0;34m.\u001b[0m\u001b[0m_check_corpus_sanity\u001b[0m\u001b[0;34m(\u001b[0m\u001b[0mcorpus_iterable\u001b[0m\u001b[0;34m=\u001b[0m\u001b[0mcorpus_iterable\u001b[0m\u001b[0;34m,\u001b[0m \u001b[0mcorpus_file\u001b[0m\u001b[0;34m=\u001b[0m\u001b[0mcorpus_file\u001b[0m\u001b[0;34m,\u001b[0m \u001b[0mpasses\u001b[0m\u001b[0;34m=\u001b[0m\u001b[0;36m1\u001b[0m\u001b[0;34m)\u001b[0m\u001b[0;34m\u001b[0m\u001b[0;34m\u001b[0m\u001b[0m\n\u001b[0m\u001b[1;32m    480\u001b[0m         total_words, corpus_count = self.scan_vocab(\n\u001b[1;32m    481\u001b[0m             corpus_iterable=corpus_iterable, corpus_file=corpus_file, progress_per=progress_per, trim_rule=trim_rule)\n",
      "\u001b[0;32m~/.local/lib/python3.9/site-packages/gensim/models/word2vec.py\u001b[0m in \u001b[0;36m_check_corpus_sanity\u001b[0;34m(self, corpus_iterable, corpus_file, passes)\u001b[0m\n\u001b[1;32m   1487\u001b[0m         \u001b[0;32mif\u001b[0m \u001b[0mcorpus_file\u001b[0m \u001b[0;32mis\u001b[0m \u001b[0;32mnot\u001b[0m \u001b[0;32mNone\u001b[0m \u001b[0;32mand\u001b[0m \u001b[0mcorpus_iterable\u001b[0m \u001b[0;32mis\u001b[0m \u001b[0;32mnot\u001b[0m \u001b[0;32mNone\u001b[0m\u001b[0;34m:\u001b[0m\u001b[0;34m\u001b[0m\u001b[0;34m\u001b[0m\u001b[0m\n\u001b[1;32m   1488\u001b[0m             \u001b[0;32mraise\u001b[0m \u001b[0mTypeError\u001b[0m\u001b[0;34m(\u001b[0m\u001b[0;34m\"Both corpus_file and corpus_iterable must not be provided at the same time\"\u001b[0m\u001b[0;34m)\u001b[0m\u001b[0;34m\u001b[0m\u001b[0;34m\u001b[0m\u001b[0m\n\u001b[0;32m-> 1489\u001b[0;31m         \u001b[0;32mif\u001b[0m \u001b[0mcorpus_iterable\u001b[0m \u001b[0;32mis\u001b[0m \u001b[0;32mNone\u001b[0m \u001b[0;32mand\u001b[0m \u001b[0;32mnot\u001b[0m \u001b[0mos\u001b[0m\u001b[0;34m.\u001b[0m\u001b[0mpath\u001b[0m\u001b[0;34m.\u001b[0m\u001b[0misfile\u001b[0m\u001b[0;34m(\u001b[0m\u001b[0mcorpus_file\u001b[0m\u001b[0;34m)\u001b[0m\u001b[0;34m:\u001b[0m\u001b[0;34m\u001b[0m\u001b[0;34m\u001b[0m\u001b[0m\n\u001b[0m\u001b[1;32m   1490\u001b[0m             \u001b[0;32mraise\u001b[0m \u001b[0mTypeError\u001b[0m\u001b[0;34m(\u001b[0m\u001b[0;34m\"Parameter corpus_file must be a valid path to a file, got %r instead\"\u001b[0m \u001b[0;34m%\u001b[0m \u001b[0mcorpus_file\u001b[0m\u001b[0;34m)\u001b[0m\u001b[0;34m\u001b[0m\u001b[0;34m\u001b[0m\u001b[0m\n\u001b[1;32m   1491\u001b[0m         \u001b[0;32mif\u001b[0m \u001b[0mcorpus_iterable\u001b[0m \u001b[0;32mis\u001b[0m \u001b[0;32mnot\u001b[0m \u001b[0;32mNone\u001b[0m \u001b[0;32mand\u001b[0m \u001b[0;32mnot\u001b[0m \u001b[0misinstance\u001b[0m\u001b[0;34m(\u001b[0m\u001b[0mcorpus_iterable\u001b[0m\u001b[0;34m,\u001b[0m \u001b[0mIterable\u001b[0m\u001b[0;34m)\u001b[0m\u001b[0;34m:\u001b[0m\u001b[0;34m\u001b[0m\u001b[0;34m\u001b[0m\u001b[0m\n",
      "\u001b[0;32m/usr/lib/python3.9/genericpath.py\u001b[0m in \u001b[0;36misfile\u001b[0;34m(path)\u001b[0m\n\u001b[1;32m     28\u001b[0m     \u001b[0;34m\"\"\"Test whether a path is a regular file\"\"\"\u001b[0m\u001b[0;34m\u001b[0m\u001b[0;34m\u001b[0m\u001b[0m\n\u001b[1;32m     29\u001b[0m     \u001b[0;32mtry\u001b[0m\u001b[0;34m:\u001b[0m\u001b[0;34m\u001b[0m\u001b[0;34m\u001b[0m\u001b[0m\n\u001b[0;32m---> 30\u001b[0;31m         \u001b[0mst\u001b[0m \u001b[0;34m=\u001b[0m \u001b[0mos\u001b[0m\u001b[0;34m.\u001b[0m\u001b[0mstat\u001b[0m\u001b[0;34m(\u001b[0m\u001b[0mpath\u001b[0m\u001b[0;34m)\u001b[0m\u001b[0;34m\u001b[0m\u001b[0;34m\u001b[0m\u001b[0m\n\u001b[0m\u001b[1;32m     31\u001b[0m     \u001b[0;32mexcept\u001b[0m \u001b[0;34m(\u001b[0m\u001b[0mOSError\u001b[0m\u001b[0;34m,\u001b[0m \u001b[0mValueError\u001b[0m\u001b[0;34m)\u001b[0m\u001b[0;34m:\u001b[0m\u001b[0;34m\u001b[0m\u001b[0;34m\u001b[0m\u001b[0m\n\u001b[1;32m     32\u001b[0m         \u001b[0;32mreturn\u001b[0m \u001b[0;32mFalse\u001b[0m\u001b[0;34m\u001b[0m\u001b[0;34m\u001b[0m\u001b[0m\n",
      "\u001b[0;31mTypeError\u001b[0m: stat: path should be string, bytes, os.PathLike or integer, not DataFrame"
     ]
    }
   ],
   "source": [
    "from gensim.models.fasttext import FastText\n",
    "\n",
    "model = FastText(vector_size=100)\n",
    "\n",
    "model.build_vocab(corpus_file=df)"
   ]
  },
  {
   "cell_type": "code",
   "execution_count": 65,
   "id": "wound-donna",
   "metadata": {},
   "outputs": [],
   "source": [
    "# deviceid 56851666-8346-32f0-bd8b-d77d82f63028\n",
    "# tag path ca3e/hvac/scrubbers/shx7/at702/eu\n",
    "df_raw = pd.read_csv('IOT_LAMUCS1_ANALOG_TYPE_202106021859.csv', parse_dates=['RCV_TIMESTAMP_UTC'],\n",
    "                     infer_datetime_format=True)\n",
    "df_raw['RCV_TIMESTAMP_UTC'] = pd.to_datetime(df_raw['RCV_TIMESTAMP_UTC'], \n",
    "                                            format='%Y-%m-%d-%H.%M.%S.%f')\n",
    "df_raw = df_raw.sort_values('RCV_TIMESTAMP_UTC')\n",
    "df = df_raw.set_index(['DEVICEID','RCV_TIMESTAMP_UTC'])"
   ]
  },
  {
   "cell_type": "code",
   "execution_count": 69,
   "id": "recreational-alias",
   "metadata": {},
   "outputs": [
    {
     "data": {
      "text/plain": [
       "0      2021-05-01 00:21:10.031\n",
       "1      2021-05-01 00:21:10.031\n",
       "3865   2021-05-01 00:21:10.031\n",
       "3866   2021-05-01 00:21:10.031\n",
       "3867   2021-05-01 00:45:37.052\n",
       "                 ...          \n",
       "413    2021-05-29 12:21:40.712\n",
       "414    2021-05-29 12:23:30.750\n",
       "415    2021-05-29 12:23:30.750\n",
       "417    2021-05-30 23:59:20.880\n",
       "416    2021-05-30 23:59:20.880\n",
       "Name: RCV_TIMESTAMP_UTC, Length: 5590, dtype: datetime64[ns]"
      ]
     },
     "execution_count": 69,
     "metadata": {},
     "output_type": "execute_result"
    }
   ],
   "source": [
    "df_raw['RCV_TIMESTAMP_UTC']"
   ]
  },
  {
   "cell_type": "code",
   "execution_count": 77,
   "id": "boring-amber",
   "metadata": {},
   "outputs": [
    {
     "data": {
      "text/plain": [
       "[<matplotlib.lines.Line2D at 0x7f5c1c57caf0>]"
      ]
     },
     "execution_count": 77,
     "metadata": {},
     "output_type": "execute_result"
    },
    {
     "data": {
      "image/png": "[encoded data removed]",
      "text/plain": [
       "<Figure size 1440x504 with 1 Axes>"
      ]
     },
     "metadata": {
      "needs_background": "light"
     },
     "output_type": "display_data"
    },
    {
     "data": {
      "image/png": "[encoded data removed]",
      "text/plain": [
       "<Figure size 1440x504 with 1 Axes>"
      ]
     },
     "metadata": {
      "needs_background": "light"
     },
     "output_type": "display_data"
    }
   ],
   "source": [
    "ax = plt.gca()\n",
    "#ax.xaxis.set_minor_locator(matplotlib.dates.MonthLocator([1, 7]))\n",
    "#ax.xaxis.set_minor_formatter(matplotlib.dates.DateFormatter('%b'))\n",
    "ax.xaxis.set_major_locator(matplotlib.dates.DayLocator())\n",
    "ax.xaxis.set_major_formatter(matplotlib.dates.DateFormatter('%D'))\n",
    "#ax.tick_params(pad=20)\n",
    "\n",
    "plt.figure(figsize=(20,7))\n",
    "plt.plot(df_raw[2200:2500]['RCV_TIMESTAMP_UTC'], df_raw[2200:2500]['FLOATVALUE'], color='red') #, figsize=(20,5))\n"
   ]
  }
 ],
 "metadata": {
  "kernelspec": {
   "display_name": "Python 3",
   "language": "python",
   "name": "python3"
  },
  "language_info": {
   "codemirror_mode": {
    "name": "ipython",
    "version": 3
   },
   "file_extension": ".py",
   "mimetype": "text/x-python",
   "name": "python",
   "nbconvert_exporter": "python",
   "pygments_lexer": "ipython3",
   "version": "3.9.5"
  }
 },
 "nbformat": 4,
 "nbformat_minor": 5
}
